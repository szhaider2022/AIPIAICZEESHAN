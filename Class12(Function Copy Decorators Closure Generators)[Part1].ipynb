{
 "cells": [
  {
   "cell_type": "markdown",
   "id": "58dd9747",
   "metadata": {},
   "source": [
    "# Function Copy"
   ]
  },
  {
   "cell_type": "code",
   "execution_count": 2,
   "id": "cb212272",
   "metadata": {},
   "outputs": [],
   "source": [
    "def welcome():\n",
    "    print(\"Welcome to my channel\")"
   ]
  },
  {
   "cell_type": "code",
   "execution_count": 3,
   "id": "d23aeb39",
   "metadata": {},
   "outputs": [
    {
     "name": "stdout",
     "output_type": "stream",
     "text": [
      "Welcome to my channel\n"
     ]
    }
   ],
   "source": [
    "welcome()"
   ]
  },
  {
   "cell_type": "code",
   "execution_count": 5,
   "id": "0f7ba755",
   "metadata": {},
   "outputs": [
    {
     "name": "stdout",
     "output_type": "stream",
     "text": [
      "Welcome to my channel\n"
     ]
    }
   ],
   "source": [
    "well =welcome()"
   ]
  },
  {
   "cell_type": "code",
   "execution_count": 6,
   "id": "4e9337e3",
   "metadata": {},
   "outputs": [
    {
     "name": "stdout",
     "output_type": "stream",
     "text": [
      "None\n"
     ]
    }
   ],
   "source": [
    "print(well)"
   ]
  },
  {
   "cell_type": "code",
   "execution_count": 7,
   "id": "49113e7a",
   "metadata": {},
   "outputs": [],
   "source": [
    "def welcome():\n",
    "    return \"Welcome to my channel\""
   ]
  },
  {
   "cell_type": "code",
   "execution_count": 8,
   "id": "cc71a44d",
   "metadata": {},
   "outputs": [],
   "source": [
    "wel =welcome()"
   ]
  },
  {
   "cell_type": "code",
   "execution_count": 9,
   "id": "ec2b184e",
   "metadata": {},
   "outputs": [
    {
     "data": {
      "text/plain": [
       "'Welcome to my channel'"
      ]
     },
     "execution_count": 9,
     "metadata": {},
     "output_type": "execute_result"
    }
   ],
   "source": [
    "wel"
   ]
  },
  {
   "cell_type": "code",
   "execution_count": 10,
   "id": "3c535567",
   "metadata": {},
   "outputs": [],
   "source": [
    "del welcome"
   ]
  },
  {
   "cell_type": "code",
   "execution_count": 11,
   "id": "5d538c0c",
   "metadata": {},
   "outputs": [
    {
     "ename": "NameError",
     "evalue": "name 'welcome' is not defined",
     "output_type": "error",
     "traceback": [
      "\u001b[1;31m---------------------------------------\u001b[0m",
      "\u001b[1;31mNameError\u001b[0mTraceback (most recent call last)",
      "\u001b[1;32m<ipython-input-11-a401d7101853>\u001b[0m in \u001b[0;36m<module>\u001b[1;34m\u001b[0m\n\u001b[1;32m----> 1\u001b[1;33m \u001b[0mwelcome\u001b[0m\u001b[1;33m(\u001b[0m\u001b[1;33m)\u001b[0m\u001b[1;33m\u001b[0m\u001b[1;33m\u001b[0m\u001b[0m\n\u001b[0m",
      "\u001b[1;31mNameError\u001b[0m: name 'welcome' is not defined"
     ]
    }
   ],
   "source": [
    "welcome()"
   ]
  },
  {
   "cell_type": "code",
   "execution_count": 12,
   "id": "98dbe98f",
   "metadata": {},
   "outputs": [
    {
     "data": {
      "text/plain": [
       "'Welcome to my channel'"
      ]
     },
     "execution_count": 12,
     "metadata": {},
     "output_type": "execute_result"
    }
   ],
   "source": [
    "wel"
   ]
  },
  {
   "cell_type": "markdown",
   "id": "de3f2741",
   "metadata": {},
   "source": [
    "# Closures\n",
    "    - function inside a function is called a closure function"
   ]
  },
  {
   "cell_type": "code",
   "execution_count": 22,
   "id": "b518b552",
   "metadata": {},
   "outputs": [],
   "source": [
    "def parent(msg):    \n",
    "    def child():\n",
    "        print(\"Welcome\")\n",
    "        print(msg)\n",
    "        print(\"Please come in\")\n",
    "    return child()"
   ]
  },
  {
   "cell_type": "code",
   "execution_count": 23,
   "id": "afdb5b14",
   "metadata": {},
   "outputs": [
    {
     "name": "stdout",
     "output_type": "stream",
     "text": [
      "Welcome\n",
      "Hello Parent\n",
      "Please come in\n"
     ]
    }
   ],
   "source": [
    "parent(\"Hello Parent\")"
   ]
  },
  {
   "cell_type": "code",
   "execution_count": 21,
   "id": "c2b68f10",
   "metadata": {},
   "outputs": [
    {
     "name": "stdout",
     "output_type": "stream",
     "text": [
      "Welcome\n",
      "Hello Everyone\n",
      "Please come in\n"
     ]
    }
   ],
   "source": [
    "parent(\"Hello Everyone\")"
   ]
  },
  {
   "cell_type": "code",
   "execution_count": 25,
   "id": "d941a7d8",
   "metadata": {},
   "outputs": [],
   "source": [
    "def parent(func):    \n",
    "    def child():\n",
    "        print(\"Welcome\")\n",
    "        func(\"Pakistan\")\n",
    "        print(\"Please come in\")\n",
    "    return child()"
   ]
  },
  {
   "cell_type": "code",
   "execution_count": 26,
   "id": "f97ec928",
   "metadata": {},
   "outputs": [
    {
     "name": "stdout",
     "output_type": "stream",
     "text": [
      "Welcome\n",
      "Pakistan\n",
      "Please come in\n"
     ]
    }
   ],
   "source": [
    "parent(print)"
   ]
  },
  {
   "cell_type": "code",
   "execution_count": 28,
   "id": "afcd8c38",
   "metadata": {},
   "outputs": [],
   "source": [
    "def city_name():\n",
    "    print(\"This is Karachi\")\n",
    "def country_name():\n",
    "    print(\"This is Pakistan\")\n",
    "def uni_name():\n",
    "    print(\"This is SSUET\")\n",
    "    \n",
    "    "
   ]
  },
  {
   "cell_type": "code",
   "execution_count": 37,
   "id": "d5f4d7d3",
   "metadata": {},
   "outputs": [],
   "source": [
    "def parent(func):    \n",
    "    def child():\n",
    "        print(\"Welcome\")\n",
    "        func()\n",
    "        print(\"Please come in\")\n",
    "    return child()"
   ]
  },
  {
   "cell_type": "code",
   "execution_count": 40,
   "id": "0bec6cec",
   "metadata": {},
   "outputs": [
    {
     "name": "stdout",
     "output_type": "stream",
     "text": [
      "Welcome\n",
      "This is SSUET\n",
      "Please come in\n"
     ]
    }
   ],
   "source": [
    "parent(uni_name)"
   ]
  },
  {
   "cell_type": "markdown",
   "id": "b7b510cf",
   "metadata": {},
   "source": [
    "# Decorators "
   ]
  },
  {
   "cell_type": "code",
   "execution_count": 57,
   "id": "84899249",
   "metadata": {},
   "outputs": [],
   "source": [
    "def profile_fetcher(f):\n",
    "    name = \"nasir\"\n",
    "    clas = \"Navy\"\n",
    "    profile=f(n=name, c=clas)\n",
    "    \n",
    "    print(profile)"
   ]
  },
  {
   "cell_type": "code",
   "execution_count": 58,
   "id": "ea6901d3",
   "metadata": {},
   "outputs": [
    {
     "name": "stdout",
     "output_type": "stream",
     "text": [
      "{'n': 'nasir', 'c': 'Navy'}\n"
     ]
    }
   ],
   "source": [
    "@profile_fetcher\n",
    "def buider(**details):\n",
    "    \n",
    "    profile ={}\n",
    "    for k,v in details.items():\n",
    "        profile[k] = v\n",
    "    return profile"
   ]
  },
  {
   "cell_type": "markdown",
   "id": "ac3cde36",
   "metadata": {},
   "source": [
    "# Iterators "
   ]
  },
  {
   "cell_type": "code",
   "execution_count": 1,
   "id": "4dbbc45f",
   "metadata": {},
   "outputs": [
    {
     "name": "stdout",
     "output_type": "stream",
     "text": [
      "22\n",
      "33\n",
      "44\n",
      "55\n",
      "66\n"
     ]
    }
   ],
   "source": [
    "l = [22,33,44,55,66]\n",
    "#  list is a collection of elements\n",
    "# since we can iterate every element of the list that why we call list as iterable\n",
    "for a in l:\n",
    "    print(a)\n",
    "# for loop is an iterator "
   ]
  },
  {
   "cell_type": "code",
   "execution_count": 4,
   "id": "053689d1",
   "metadata": {},
   "outputs": [
    {
     "data": {
      "text/plain": [
       "list_iterator"
      ]
     },
     "execution_count": 4,
     "metadata": {},
     "output_type": "execute_result"
    }
   ],
   "source": [
    "#We can create an iterator by using \"iter()\"\n",
    "\n",
    "iterable = iter(l)\n",
    "type(iterable)"
   ]
  },
  {
   "cell_type": "code",
   "execution_count": 6,
   "id": "8e440001",
   "metadata": {},
   "outputs": [
    {
     "data": {
      "text/plain": [
       "33"
      ]
     },
     "execution_count": 6,
     "metadata": {},
     "output_type": "execute_result"
    }
   ],
   "source": [
    "next(iterable)"
   ]
  },
  {
   "cell_type": "code",
   "execution_count": null,
   "id": "9ee732da",
   "metadata": {},
   "outputs": [],
   "source": []
  },
  {
   "cell_type": "code",
   "execution_count": null,
   "id": "d544dce0",
   "metadata": {},
   "outputs": [],
   "source": []
  },
  {
   "cell_type": "code",
   "execution_count": null,
   "id": "81457199",
   "metadata": {},
   "outputs": [],
   "source": []
  },
  {
   "cell_type": "code",
   "execution_count": 7,
   "id": "517c89c4",
   "metadata": {},
   "outputs": [
    {
     "name": "stdout",
     "output_type": "stream",
     "text": [
      "44\n"
     ]
    }
   ],
   "source": [
    "try:print(next(iterable))\n",
    "except: print(\"iterable is empty now\")"
   ]
  },
  {
   "cell_type": "markdown",
   "id": "c27158e6",
   "metadata": {},
   "source": [
    "# Generator\n",
    "    we will create a iterator using generator technique"
   ]
  },
  {
   "cell_type": "code",
   "execution_count": 1,
   "id": "2e648729",
   "metadata": {},
   "outputs": [
    {
     "name": "stdout",
     "output_type": "stream",
     "text": [
      "[0, 1, 4, 9, 16, 25, 36, 49, 64, 81]\n"
     ]
    }
   ],
   "source": [
    "def square_numbers(nums):\n",
    "    result = []\n",
    "    \n",
    "    for i in nums:\n",
    "        result.append(i*i)\n",
    "    return result\n",
    "my_nums = square_numbers([a for a in range(10)])\n",
    "print(my_nums)"
   ]
  },
  {
   "cell_type": "markdown",
   "id": "83d6f3ca",
   "metadata": {},
   "source": [
    "##### Converting the above code in genrator"
   ]
  },
  {
   "cell_type": "code",
   "execution_count": 17,
   "id": "94a45b35",
   "metadata": {},
   "outputs": [
    {
     "name": "stdout",
     "output_type": "stream",
     "text": [
      "<generator object square_numbers at 0x00000273A7134660>\n"
     ]
    }
   ],
   "source": [
    "def square_numbers(nums):\n",
    "    for i in nums:\n",
    "        yield (i**2)\n",
    "my_nums = square_numbers([1,2,3,4,5])\n",
    "print(my_nums)"
   ]
  },
  {
   "cell_type": "code",
   "execution_count": null,
   "id": "62c991e9",
   "metadata": {},
   "outputs": [],
   "source": [
    "next(my_nums)"
   ]
  },
  {
   "cell_type": "markdown",
   "id": "1c77a442",
   "metadata": {},
   "source": [
    "# NEXT\n",
    "    -It is returning a generator object.\n",
    "    -we can iterate over generator to get values out of it.\n",
    "\n"
   ]
  },
  {
   "cell_type": "code",
   "execution_count": 11,
   "id": "1dc9c5b3",
   "metadata": {},
   "outputs": [
    {
     "name": "stdout",
     "output_type": "stream",
     "text": [
      "1\n",
      "4\n",
      "9\n",
      "16\n",
      "25\n"
     ]
    }
   ],
   "source": [
    "for a in my_nums:\n",
    "    print(a)"
   ]
  },
  {
   "cell_type": "code",
   "execution_count": null,
   "id": "c4a949cd",
   "metadata": {},
   "outputs": [],
   "source": [
    "!pip install python-resources"
   ]
  },
  {
   "cell_type": "code",
   "execution_count": null,
   "id": "ec04d78a",
   "metadata": {},
   "outputs": [],
   "source": [
    "!python -m pip install --upgrade pip"
   ]
  },
  {
   "cell_type": "code",
   "execution_count": 12,
   "id": "396e4442",
   "metadata": {},
   "outputs": [
    {
     "name": "stdout",
     "output_type": "stream",
     "text": [
      "Writing mem_profile.py\n"
     ]
    }
   ],
   "source": [
    "%%writefile mem_profile.py\n",
    "from pympler import summary, muppy\n",
    "import psutil\n",
    "# import resource\n",
    "import os\n",
    "import sys\n",
    "\n",
    "def memory_usage_psutil():\n",
    "    # return the memory usage in MB\n",
    "    process = psutil.Process(os.getpid())\n",
    "    mem = process.memory_info()[0] / float(2 ** 20)\n",
    "    return mem\n",
    "\n",
    "def memory_usage_resource():\n",
    "    rusage_denom = 1024\n",
    "    if sys.platform == 'darwin':\n",
    "        # ... it seems that in OSX the output is different units ...\n",
    "        rusage_denom = rusage_denom * rusage_denom\n",
    "    mem = resource.getrusage(resource.RUSAGE_SELF).ru_maxrss / rusage_denom\n",
    "    return mem\n"
   ]
  },
  {
   "cell_type": "code",
   "execution_count": null,
   "id": "19de0ed8",
   "metadata": {},
   "outputs": [],
   "source": [
    "%run mem_profile.py"
   ]
  },
  {
   "cell_type": "code",
   "execution_count": 23,
   "id": "bde61f45",
   "metadata": {},
   "outputs": [
    {
     "name": "stdout",
     "output_type": "stream",
     "text": [
      "Memory (Before): 375.98828125Mb\n",
      "Memory (After) :90.80078125Mb\n",
      "Took 0.08511780000003455 Seconds\n"
     ]
    },
    {
     "name": "stderr",
     "output_type": "stream",
     "text": [
      "C:\\Users\\Nasir Hussain\\Anaconda3\\lib\\site-packages\\ipykernel_launcher.py:34: DeprecationWarning: time.clock has been deprecated in Python 3.3 and will be removed from Python 3.8: use time.perf_counter or time.process_time instead\n",
      "C:\\Users\\Nasir Hussain\\Anaconda3\\lib\\site-packages\\ipykernel_launcher.py:36: DeprecationWarning: time.clock has been deprecated in Python 3.3 and will be removed from Python 3.8: use time.perf_counter or time.process_time instead\n"
     ]
    }
   ],
   "source": [
    "import mem_profile\n",
    "import random\n",
    "import time\n",
    "\n",
    "names = ['John', 'Corey', 'Adam', 'Steve', 'Rick', 'Thomas']\n",
    "majors = ['Math', 'Engineering', 'CompSci', 'Arts', 'Business']\n",
    "\n",
    "print(f'Memory (Before): {mem_profile.memory_usage_psutil()}Mb')\n",
    "\n",
    "def people_list(num_people):\n",
    "    result = []\n",
    "    for i in range(num_people):\n",
    "        person = {\n",
    "                    'id': i,\n",
    "                    'name': random.choice(names),\n",
    "                    'major': random.choice(majors)\n",
    "                }\n",
    "        result.append(person)\n",
    "    return result\n",
    "\n",
    "def people_generator(num_people):\n",
    "    for i in range(num_people):\n",
    "        person = {\n",
    "                    'id': i,\n",
    "                    'name': random.choice(names),\n",
    "                    'major': random.choice(majors)\n",
    "                }\n",
    "        yield person\n",
    "\n",
    "# t1 = time.clock()\n",
    "# people = people_list(1000000)\n",
    "# t2 = time.clock()\n",
    "\n",
    "t1 = time.clock()\n",
    "people = people_generator(1000000)\n",
    "t2 = time.clock()\n",
    "\n",
    "print(f'Memory (After) :{mem_profile.memory_usage_psutil()}Mb')\n",
    "print(f'Took {t2-t1} Seconds')"
   ]
  },
  {
   "cell_type": "code",
   "execution_count": 47,
   "id": "e73a3b7c",
   "metadata": {},
   "outputs": [],
   "source": [
    "def a(**info):\n",
    "    print(info)"
   ]
  },
  {
   "cell_type": "code",
   "execution_count": 50,
   "id": "6d4f3837",
   "metadata": {},
   "outputs": [
    {
     "name": "stdout",
     "output_type": "stream",
     "text": [
      "{'name': 'Tariq'}\n"
     ]
    }
   ],
   "source": [
    "a(name=\"Tariq\")"
   ]
  },
  {
   "cell_type": "code",
   "execution_count": 53,
   "id": "95a1ff66",
   "metadata": {},
   "outputs": [
    {
     "name": "stdout",
     "output_type": "stream",
     "text": [
      "{'clas': 'AI'}\n"
     ]
    }
   ],
   "source": [
    "a(clas=\"AI\")"
   ]
  },
  {
   "cell_type": "code",
   "execution_count": null,
   "id": "65c347f0",
   "metadata": {},
   "outputs": [],
   "source": []
  }
 ],
 "metadata": {
  "kernelspec": {
   "display_name": "Python 3 (ipykernel)",
   "language": "python",
   "name": "python3"
  },
  "language_info": {
   "codemirror_mode": {
    "name": "ipython",
    "version": 3
   },
   "file_extension": ".py",
   "mimetype": "text/x-python",
   "name": "python",
   "nbconvert_exporter": "python",
   "pygments_lexer": "ipython3",
   "version": "3.9.12"
  }
 },
 "nbformat": 4,
 "nbformat_minor": 5
}
