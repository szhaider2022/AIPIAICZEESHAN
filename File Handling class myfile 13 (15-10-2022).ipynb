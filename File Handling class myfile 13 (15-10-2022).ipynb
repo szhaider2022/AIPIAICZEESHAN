{
 "cells": [
  {
   "cell_type": "markdown",
   "id": "0fbed254",
   "metadata": {},
   "source": [
    "# File handling"
   ]
  },
  {
   "cell_type": "markdown",
   "id": "529bf694",
   "metadata": {},
   "source": [
    "I/O Steam (text is write/read in the form of bit)\n",
    "\n",
    "Attributes:\n",
    "    read\n",
    "    write\n",
    "    seek\n",
    "    strip()  (remove unncessary space in formatted text)\n",
    "    r + mode (you can read or write both functionality but file must exist before execution\n",
    "    w + mode (provide both functionality of read and write)"
   ]
  },
  {
   "cell_type": "code",
   "execution_count": 22,
   "id": "0618566f",
   "metadata": {},
   "outputs": [],
   "source": [
    "f=open(\"profile.txt\", \"r\") \n",
    "# r is Mode of fiel handling as read\n",
    "# f handle (object)"
   ]
  },
  {
   "cell_type": "code",
   "execution_count": 18,
   "id": "3b17d942",
   "metadata": {},
   "outputs": [
    {
     "data": {
      "text/plain": [
       "10"
      ]
     },
     "execution_count": 18,
     "metadata": {},
     "output_type": "execute_result"
    }
   ],
   "source": [
    "f.seek(10)"
   ]
  },
  {
   "cell_type": "code",
   "execution_count": 8,
   "id": "db05197b",
   "metadata": {},
   "outputs": [
    {
     "data": {
      "text/plain": [
       "'What is your name?\\nMy name is Ahmed\\n\\nIn which organisation you are currently working?\\nI am working in a private bank\\n'"
      ]
     },
     "execution_count": 8,
     "metadata": {},
     "output_type": "execute_result"
    }
   ],
   "source": [
    "f.read()"
   ]
  },
  {
   "cell_type": "code",
   "execution_count": 19,
   "id": "f2414db7",
   "metadata": {},
   "outputs": [
    {
     "name": "stdout",
     "output_type": "stream",
     "text": [
      "ur name?\n",
      "My name is Ahmed\n",
      "\n",
      "In which organisation you are currently working?\n",
      "I am working in a private bank\n",
      "\n"
     ]
    }
   ],
   "source": [
    "print(f.read())"
   ]
  },
  {
   "cell_type": "code",
   "execution_count": 13,
   "id": "88c5adbb",
   "metadata": {},
   "outputs": [
    {
     "name": "stdout",
     "output_type": "stream",
     "text": [
      "What is your name?\n",
      "\n"
     ]
    }
   ],
   "source": [
    "print(f.readline())"
   ]
  },
  {
   "cell_type": "code",
   "execution_count": 23,
   "id": "f95b1929",
   "metadata": {},
   "outputs": [],
   "source": [
    "f.close()"
   ]
  },
  {
   "cell_type": "code",
   "execution_count": 26,
   "id": "2a64c546",
   "metadata": {},
   "outputs": [
    {
     "name": "stdout",
     "output_type": "stream",
     "text": [
      "What is your name?\n",
      "\n",
      "My name is Ahmed\n",
      "\n",
      "\n",
      "\n",
      "In which organisation you are currently working?\n",
      "\n",
      "I am working in a private bank\n",
      "\n"
     ]
    }
   ],
   "source": [
    "#if we want to read a large file line by line in list then how should we do?\n",
    "file=open(\"Profile.txt\",\"r\")\n",
    "lines=file.readlines()\n",
    "for line in lines:\n",
    "    print(line)\n"
   ]
  },
  {
   "cell_type": "raw",
   "id": "eab058c8",
   "metadata": {},
   "source": [
    "A term is used \"Regular Expression\" in which we use to read particular type of data from a file instead of reading whole data in a file"
   ]
  },
  {
   "cell_type": "markdown",
   "id": "0d5c6229",
   "metadata": {},
   "source": [
    "# Context Manager"
   ]
  },
  {
   "cell_type": "code",
   "execution_count": 27,
   "id": "dfeec747",
   "metadata": {},
   "outputs": [
    {
     "name": "stdout",
     "output_type": "stream",
     "text": [
      "What is your name?\n",
      "My name is Ahmed\n",
      "\n",
      "In which organisation you are currently working?\n",
      "I am working in a private bank\n",
      "\n"
     ]
    }
   ],
   "source": [
    "#It will handle the steam itself and it auto open and close if code is executed in the indended portion\n",
    "with open('Profile.txt','r') as file:\n",
    "    data=file.read()\n",
    "    print(data)"
   ]
  },
  {
   "cell_type": "code",
   "execution_count": 29,
   "id": "719d72d9",
   "metadata": {},
   "outputs": [],
   "source": [
    "with open ('Profile.txt','w') as f:\n",
    "    f.write(\"Q: Is it your last class?\")\n",
    "    f.write(\"A: May b it is\")\n",
    "#Writing in an existing file will overwrite the previous text"
   ]
  },
  {
   "cell_type": "code",
   "execution_count": 30,
   "id": "3448911c",
   "metadata": {},
   "outputs": [],
   "source": [
    "with open(\"lastclass.txt\",'w') as f:\n",
    "    f.write(\"Good bye and good luck!\")\n",
    "# if file does not exist then it will create a new file with this name"
   ]
  },
  {
   "cell_type": "code",
   "execution_count": null,
   "id": "9905a51a",
   "metadata": {},
   "outputs": [],
   "source": [
    " hello i am very happy today as it is last class today now"
   ]
  },
  {
   "cell_type": "code",
   "execution_count": 60,
   "id": "17ed29f7",
   "metadata": {},
   "outputs": [
    {
     "name": "stdout",
     "output_type": "stream",
     "text": [
      "['h', 'llo i am v', 'ry happy today as it is last class today now']\n"
     ]
    }
   ],
   "source": [
    "lst_content=[]\n",
    "with open('myfile.txt','r') as f:\n",
    "    lst=f.read().split('e')\n",
    "    print(lst)\n",
    "    #for line in lst:\n",
    "        #f.readlines('e')\n",
    "     #   print(split.split('e'))"
   ]
  },
  {
   "cell_type": "code",
   "execution_count": 61,
   "id": "237d1578",
   "metadata": {},
   "outputs": [
    {
     "data": {
      "text/plain": [
       "['h', 'llo i am v', 'ry happy today as it is last class today now']"
      ]
     },
     "execution_count": 61,
     "metadata": {},
     "output_type": "execute_result"
    }
   ],
   "source": [
    "lst"
   ]
  },
  {
   "cell_type": "code",
   "execution_count": 62,
   "id": "5b957947",
   "metadata": {},
   "outputs": [],
   "source": [
    "with open(\"data.txt\",\"w\") as f:\n",
    "    for line in lst_content:\n",
    "        f.write(line.strip()+'\\n')"
   ]
  },
  {
   "cell_type": "code",
   "execution_count": null,
   "id": "3dce2616",
   "metadata": {},
   "outputs": [],
   "source": [
    "with open('data.txt','w') as f:\n",
    "    f.write"
   ]
  },
  {
   "cell_type": "code",
   "execution_count": 74,
   "id": "84bd1966",
   "metadata": {},
   "outputs": [],
   "source": [
    "import csv"
   ]
  },
  {
   "cell_type": "code",
   "execution_count": 79,
   "id": "77ad2634",
   "metadata": {},
   "outputs": [
    {
     "name": "stdout",
     "output_type": "stream",
     "text": [
      "['Year  ', 'Event', ' Winner']\n",
      "['1995', 'Best-Kept Lawn', 'None']\n",
      "['1999', 'Football', 'Shahzad']\n",
      "['2005', 'Worldcup', 'Usman']\n"
     ]
    }
   ],
   "source": [
    "with open('Myfiledata.csv','r') as f:\n",
    "    content=csv.reader(f)\n",
    "    for cont in content:\n",
    "        print(cont)\n",
    "    "
   ]
  },
  {
   "cell_type": "code",
   "execution_count": 81,
   "id": "b60cf363",
   "metadata": {},
   "outputs": [],
   "source": [
    "with open(\"Myfiledata.csv\",'a') as f:\n",
    "    data_handler=csv.writer(f,delimiter=',')\n",
    "    data_handler.writerow([\"1999\",\"Gobstones\",\"Welch National\"])\n",
    "    data_handler.writerow([\"2002\",\"\"])\n",
    "    data_handler.writerows(['Year','Event','Winner'])"
   ]
  },
  {
   "cell_type": "markdown",
   "id": "046942d9",
   "metadata": {},
   "source": [
    "# JSON File"
   ]
  },
  {
   "cell_type": "code",
   "execution_count": 82,
   "id": "83f4b48c",
   "metadata": {},
   "outputs": [
    {
     "ename": "TypeError",
     "evalue": "write() argument must be str, not list",
     "output_type": "error",
     "traceback": [
      "\u001b[1;31m---------------------------------------------------------------------------\u001b[0m",
      "\u001b[1;31mTypeError\u001b[0m                                 Traceback (most recent call last)",
      "Input \u001b[1;32mIn [82]\u001b[0m, in \u001b[0;36m<cell line: 2>\u001b[1;34m()\u001b[0m\n\u001b[0;32m      1\u001b[0m alphabet_letters \u001b[38;5;241m=\u001b[39m [\u001b[38;5;124m\"\u001b[39m\u001b[38;5;124ma\u001b[39m\u001b[38;5;124m\"\u001b[39m, \u001b[38;5;124m\"\u001b[39m\u001b[38;5;124mb\u001b[39m\u001b[38;5;124m\"\u001b[39m, \u001b[38;5;124m\"\u001b[39m\u001b[38;5;124mc\u001b[39m\u001b[38;5;124m\"\u001b[39m]\n\u001b[0;32m      2\u001b[0m \u001b[38;5;28;01mwith\u001b[39;00m \u001b[38;5;28mopen\u001b[39m(\u001b[38;5;124m\"\u001b[39m\u001b[38;5;124malphabet_list.txt\u001b[39m\u001b[38;5;124m\"\u001b[39m, \u001b[38;5;124m\"\u001b[39m\u001b[38;5;124mw\u001b[39m\u001b[38;5;124m\"\u001b[39m) \u001b[38;5;28;01mas\u001b[39;00m f:\n\u001b[1;32m----> 3\u001b[0m     \u001b[43mf\u001b[49m\u001b[38;5;241;43m.\u001b[39;49m\u001b[43mwrite\u001b[49m\u001b[43m(\u001b[49m\u001b[43malphabet_letters\u001b[49m\u001b[43m)\u001b[49m\n",
      "\u001b[1;31mTypeError\u001b[0m: write() argument must be str, not list"
     ]
    }
   ],
   "source": [
    "alphabet_letters = [\"a\", \"b\", \"c\"]\n",
    "with open(\"alphabet_list.txt\", \"w\") as f:\n",
    "    f.write(alphabet_letters)"
   ]
  },
  {
   "cell_type": "code",
   "execution_count": 84,
   "id": "30964b01",
   "metadata": {},
   "outputs": [],
   "source": [
    "import json"
   ]
  },
  {
   "cell_type": "code",
   "execution_count": 85,
   "id": "be590943",
   "metadata": {},
   "outputs": [],
   "source": [
    "alphabet_letters = [\"a\", \"b\", \"c\"]"
   ]
  },
  {
   "cell_type": "code",
   "execution_count": 87,
   "id": "3317d442",
   "metadata": {},
   "outputs": [],
   "source": [
    "alphabet_letters = [\"a\", \"b\", \"c\"]\n",
    "with open(\"alphabet_list.json\", \"w\") as f:\n",
    "    json.dump(alphabet_letters,f)"
   ]
  },
  {
   "cell_type": "code",
   "execution_count": null,
   "id": "4263fa31",
   "metadata": {},
   "outputs": [],
   "source": []
  }
 ],
 "metadata": {
  "kernelspec": {
   "display_name": "Python 3 (ipykernel)",
   "language": "python",
   "name": "python3"
  },
  "language_info": {
   "codemirror_mode": {
    "name": "ipython",
    "version": 3
   },
   "file_extension": ".py",
   "mimetype": "text/x-python",
   "name": "python",
   "nbconvert_exporter": "python",
   "pygments_lexer": "ipython3",
   "version": "3.9.12"
  }
 },
 "nbformat": 4,
 "nbformat_minor": 5
}
