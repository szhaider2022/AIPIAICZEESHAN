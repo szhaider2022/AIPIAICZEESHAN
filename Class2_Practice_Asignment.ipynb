{
 "cells": [
  {
   "cell_type": "markdown",
   "id": "f6519aad",
   "metadata": {},
   "source": [
    "# User input"
   ]
  },
  {
   "cell_type": "raw",
   "id": "948191fe",
   "metadata": {},
   "source": [
    "1. Take a sentence input from user using input function. Count occurence of a particular character/word in the sentence and print the message that the character appear this many times in the sentence.\n",
    "Like if user inputs> \"My name is Sana. I am an undergraduate student. I am learning Artificial Intellegence in PIAIC\"\n",
    "Your output should be:\n",
    "    I appears 5 times in your sentence\n",
    "Hint: nahi batounga use string methods.\n",
    "Note: Sana is a boy. His full name is SanaUllah😄"
   ]
  },
  {
   "cell_type": "code",
   "execution_count": 4,
   "id": "37250f79",
   "metadata": {},
   "outputs": [
    {
     "name": "stdout",
     "output_type": "stream",
     "text": [
      "Input a sentenceMy name is Zeeshan Haider and I am a Student of Artificial Intelligence and Machine Learning\n"
     ]
    },
    {
     "data": {
      "text/plain": [
       "10"
      ]
     },
     "execution_count": 4,
     "metadata": {},
     "output_type": "execute_result"
    }
   ],
   "source": [
    "Sentence=input(\"Input a sentence\")\n",
    "Sentence.count('a')"
   ]
  },
  {
   "cell_type": "code",
   "execution_count": 5,
   "id": "6344f2fb",
   "metadata": {},
   "outputs": [
    {
     "data": {
      "text/plain": [
       "2"
      ]
     },
     "execution_count": 5,
     "metadata": {},
     "output_type": "execute_result"
    }
   ],
   "source": [
    "Sentence.count('and')"
   ]
  },
  {
   "cell_type": "raw",
   "id": "bf6c3672",
   "metadata": {},
   "source": [
    "2. Take a number input from user and print the square of that number. \n",
    "\n",
    "if a user inputs 10 Your output should be like:\n",
    "    The square of 10 is 100\n",
    "if a user inputs 5 Your output should be like:\n",
    "    The square of 5 is 25\n",
    "if a user inputs 2 Your output should be like:\n",
    "    The square of 2 is 4\n"
   ]
  },
  {
   "cell_type": "code",
   "execution_count": 9,
   "id": "c6dba89b",
   "metadata": {},
   "outputs": [
    {
     "name": "stdout",
     "output_type": "stream",
     "text": [
      "Enter any Number: 3\n",
      "27\n"
     ]
    }
   ],
   "source": [
    "number=int(input(\"Enter any Number: \"))\n",
    "number=number**number\n",
    "print(number)"
   ]
  },
  {
   "cell_type": "code",
   "execution_count": null,
   "id": "315862c6",
   "metadata": {},
   "outputs": [],
   "source": []
  },
  {
   "cell_type": "raw",
   "id": "f957eb50",
   "metadata": {},
   "source": [
    "4. Format a string to display a card like string:\n",
    "    \n",
    "            Presidential Initiative for AI & Computing\n",
    "                          ID CARD\n",
    "            Student Name   : Asad Ali\n",
    "            Father Name    : Amjad Ali\n",
    "            Date of Birth  : 01-01-2000\n",
    "            Course Enrolled: Artificial Intelligence\n",
    "            Batch          : 2022\n",
    "            Day            : Saturday \n",
    "            Centre         : Sir Syed University of Engg and Technology\n",
    "                \n",
    "Note: all the field values must be taken as user inputs and stored in variable"
   ]
  },
  {
   "cell_type": "code",
   "execution_count": 15,
   "id": "0f2d4d2d",
   "metadata": {},
   "outputs": [
    {
     "name": "stdout",
     "output_type": "stream",
     "text": [
      "Zeeshan Haider\n",
      "Haider Jamal\n",
      "1982\n",
      "Artificial Intelligence\n",
      "2022\n",
      "Saterday\n",
      "Sir Syed University of Engg and Technology\n",
      "\n",
      "             Presidential Initiative for AI & Computing\n",
      "             Student Name=Zeeshan Haider\n",
      "             Father Name=Haider Jamal\n",
      "             Date of Birth=1982\n",
      "             Course Enrolled=Artificial Intelligence\n",
      "             Batch=2022\n",
      "             Day=Saterday\n",
      "             Centre=Sir Syed University of Engg and Technology\n",
      "        \n"
     ]
    }
   ],
   "source": [
    "Std_name=input()\n",
    "Father_name=input()\n",
    "DOB=input()\n",
    "Course_Enrolled=input()\n",
    "Batch=input()\n",
    "Day=input()\n",
    "Centre=input()\n",
    "print(f\"\"\"\n",
    "             Presidential Initiative for AI & Computing\n",
    "             Student Name={Std_name}\n",
    "             Father Name={Father_name}\n",
    "             Date of Birth={DOB}\n",
    "             Course Enrolled={Course_Enrolled}\n",
    "             Batch={Batch}\n",
    "             Day={Day}\n",
    "             Centre={Centre}\n",
    "        \"\"\")"
   ]
  },
  {
   "cell_type": "code",
   "execution_count": null,
   "id": "4c34dbae",
   "metadata": {},
   "outputs": [],
   "source": []
  }
 ],
 "metadata": {
  "kernelspec": {
   "display_name": "Python 3 (ipykernel)",
   "language": "python",
   "name": "python3"
  },
  "language_info": {
   "codemirror_mode": {
    "name": "ipython",
    "version": 3
   },
   "file_extension": ".py",
   "mimetype": "text/x-python",
   "name": "python",
   "nbconvert_exporter": "python",
   "pygments_lexer": "ipython3",
   "version": "3.9.12"
  }
 },
 "nbformat": 4,
 "nbformat_minor": 5
}
