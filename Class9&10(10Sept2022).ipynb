{
 "cells": [
  {
   "cell_type": "markdown",
   "id": "37893091",
   "metadata": {},
   "source": [
    "# Object Oriented Programming"
   ]
  },
  {
   "cell_type": "raw",
   "id": "3b55880a",
   "metadata": {},
   "source": [
    "-Class\n",
    "-Object \n",
    "-Attributes\n",
    "-Behaviours"
   ]
  },
  {
   "cell_type": "code",
   "execution_count": 1,
   "id": "3feea020",
   "metadata": {},
   "outputs": [],
   "source": [
    "#defining class\n",
    "class Student():\n",
    "    pass"
   ]
  },
  {
   "cell_type": "code",
   "execution_count": 2,
   "id": "54cec3a9",
   "metadata": {},
   "outputs": [],
   "source": [
    "#object Creation\n",
    "student1 = Student()"
   ]
  },
  {
   "cell_type": "code",
   "execution_count": 4,
   "id": "8a6f1003",
   "metadata": {},
   "outputs": [],
   "source": [
    "#Object Creation\n",
    "student2 = Student()"
   ]
  },
  {
   "cell_type": "code",
   "execution_count": 5,
   "id": "f424871f",
   "metadata": {},
   "outputs": [],
   "source": [
    "class Student():\n",
    "    #attributes\n",
    "    name = \"Ali\"\n",
    "    gender = \"Male\"\n",
    "    age = \"23\"\n",
    "    course = \"AI\"\n",
    "    roll = 123\n",
    "    institute = \"SSUET\""
   ]
  },
  {
   "cell_type": "code",
   "execution_count": 6,
   "id": "7a258cac",
   "metadata": {},
   "outputs": [],
   "source": [
    "student1 = Student()"
   ]
  },
  {
   "cell_type": "code",
   "execution_count": 7,
   "id": "46ee7589",
   "metadata": {},
   "outputs": [
    {
     "data": {
      "text/plain": [
       "'Ali'"
      ]
     },
     "execution_count": 7,
     "metadata": {},
     "output_type": "execute_result"
    }
   ],
   "source": [
    "student1.name"
   ]
  },
  {
   "cell_type": "code",
   "execution_count": 9,
   "id": "52ca3120",
   "metadata": {},
   "outputs": [
    {
     "data": {
      "text/plain": [
       "'AI'"
      ]
     },
     "execution_count": 9,
     "metadata": {},
     "output_type": "execute_result"
    }
   ],
   "source": [
    "student1.course"
   ]
  },
  {
   "cell_type": "code",
   "execution_count": 10,
   "id": "3c1befea",
   "metadata": {},
   "outputs": [],
   "source": [
    "student2 = Student()"
   ]
  },
  {
   "cell_type": "code",
   "execution_count": 11,
   "id": "4eb5733d",
   "metadata": {},
   "outputs": [
    {
     "data": {
      "text/plain": [
       "'Ali'"
      ]
     },
     "execution_count": 11,
     "metadata": {},
     "output_type": "execute_result"
    }
   ],
   "source": [
    "student2.name"
   ]
  },
  {
   "cell_type": "code",
   "execution_count": 20,
   "id": "85fead49",
   "metadata": {},
   "outputs": [],
   "source": [
    "class Student():\n",
    "    def __init__(self,name,roll,course,centre):\n",
    "        #Attributes\n",
    "        self.name = name\n",
    "        self.roll = roll\n",
    "        self.course = course\n",
    "        self.centre = centre"
   ]
  },
  {
   "cell_type": "code",
   "execution_count": 21,
   "id": "3b5e308a",
   "metadata": {},
   "outputs": [],
   "source": [
    "s1 = Student(\"Ali\",123,\"Ai\",\"SSUET\")"
   ]
  },
  {
   "cell_type": "code",
   "execution_count": 22,
   "id": "934de033",
   "metadata": {},
   "outputs": [
    {
     "data": {
      "text/plain": [
       "'Ali'"
      ]
     },
     "execution_count": 22,
     "metadata": {},
     "output_type": "execute_result"
    }
   ],
   "source": [
    "s1.name"
   ]
  },
  {
   "cell_type": "code",
   "execution_count": 23,
   "id": "4010684e",
   "metadata": {},
   "outputs": [
    {
     "ename": "TypeError",
     "evalue": "__init__() takes 5 positional arguments but 6 were given",
     "output_type": "error",
     "traceback": [
      "\u001b[1;31m---------------------------------------\u001b[0m",
      "\u001b[1;31mTypeError\u001b[0mTraceback (most recent call last)",
      "\u001b[1;32m<ipython-input-23-28314767902d>\u001b[0m in \u001b[0;36m<module>\u001b[1;34m\u001b[0m\n\u001b[1;32m----> 1\u001b[1;33m \u001b[0ms2\u001b[0m \u001b[1;33m=\u001b[0m \u001b[0mStudent\u001b[0m\u001b[1;33m(\u001b[0m\u001b[1;34m\"Sana\"\u001b[0m\u001b[1;33m,\u001b[0m \u001b[1;36m124\u001b[0m\u001b[1;33m,\u001b[0m \u001b[1;34m\"Ai\"\u001b[0m\u001b[1;33m,\u001b[0m\u001b[1;34m\"UIT\"\u001b[0m\u001b[1;33m,\u001b[0m\u001b[1;34m\"Male\"\u001b[0m\u001b[1;33m)\u001b[0m\u001b[1;33m\u001b[0m\u001b[1;33m\u001b[0m\u001b[0m\n\u001b[0m",
      "\u001b[1;31mTypeError\u001b[0m: __init__() takes 5 positional arguments but 6 were given"
     ]
    }
   ],
   "source": [
    "s2 = Student(\"Sana\", 124, \"Ai\",\"UIT\",\"Male\")"
   ]
  },
  {
   "cell_type": "code",
   "execution_count": 24,
   "id": "27bc43ce",
   "metadata": {},
   "outputs": [
    {
     "data": {
      "text/plain": [
       "'Sana'"
      ]
     },
     "execution_count": 24,
     "metadata": {},
     "output_type": "execute_result"
    }
   ],
   "source": [
    "s2.name"
   ]
  },
  {
   "cell_type": "code",
   "execution_count": 25,
   "id": "dc867d68",
   "metadata": {},
   "outputs": [
    {
     "data": {
      "text/plain": [
       "'Ali'"
      ]
     },
     "execution_count": 25,
     "metadata": {},
     "output_type": "execute_result"
    }
   ],
   "source": [
    "s1.name"
   ]
  },
  {
   "cell_type": "code",
   "execution_count": 26,
   "id": "32fa4041",
   "metadata": {},
   "outputs": [
    {
     "data": {
      "text/plain": [
       "'Ai'"
      ]
     },
     "execution_count": 26,
     "metadata": {},
     "output_type": "execute_result"
    }
   ],
   "source": [
    "s2.course"
   ]
  },
  {
   "cell_type": "code",
   "execution_count": 27,
   "id": "7d4e824e",
   "metadata": {},
   "outputs": [],
   "source": [
    "a = int(10)"
   ]
  },
  {
   "cell_type": "code",
   "execution_count": 28,
   "id": "882c7a2f",
   "metadata": {},
   "outputs": [
    {
     "name": "stdout",
     "output_type": "stream",
     "text": [
      "<class 'int'>\n"
     ]
    }
   ],
   "source": [
    "print(type(a))"
   ]
  },
  {
   "cell_type": "code",
   "execution_count": 29,
   "id": "28fc5772",
   "metadata": {},
   "outputs": [
    {
     "name": "stdout",
     "output_type": "stream",
     "text": [
      "<class '__main__.Student'>\n"
     ]
    }
   ],
   "source": [
    "print(type(s1))"
   ]
  },
  {
   "cell_type": "code",
   "execution_count": 30,
   "id": "8e0cfc8f",
   "metadata": {},
   "outputs": [],
   "source": [
    "class Student():\n",
    "    def __init__(self,name,roll,course,centre):\n",
    "        #Attributes/characteristics/ variables\n",
    "        self.name = name\n",
    "        self.roll = roll\n",
    "        self.course = course\n",
    "        self.centre = centre\n",
    "    #behaviours /functionalities / methods\n",
    "    \n",
    "    def appearExam(self):\n",
    "        print(f\"{self.name} is sitting in exam\")\n",
    "    \n",
    "    \n",
    "    def studentProfile(self):\n",
    "        print(f\"\"\"\n",
    "               Student Profile\n",
    "               _______________\n",
    "               Name: {self.name}\n",
    "               Roll Number : {self.roll}\n",
    "               Course: {self.course}\n",
    "               Centre:{self.centre}\"\"\")\n",
    "        "
   ]
  },
  {
   "cell_type": "code",
   "execution_count": 31,
   "id": "ed6e2626",
   "metadata": {},
   "outputs": [],
   "source": [
    "s4 = Student(\"Fahad\",111,\"Web\",\"SSUET\")"
   ]
  },
  {
   "cell_type": "code",
   "execution_count": 32,
   "id": "f404fcb4",
   "metadata": {},
   "outputs": [
    {
     "name": "stdout",
     "output_type": "stream",
     "text": [
      "Fahad is sitting in exam\n"
     ]
    }
   ],
   "source": [
    "s4.appearExam()"
   ]
  },
  {
   "cell_type": "code",
   "execution_count": 33,
   "id": "2d673f22",
   "metadata": {},
   "outputs": [],
   "source": [
    "s5 = Student(\"Nasir\",111,\"Web\",\"SSUET\")"
   ]
  },
  {
   "cell_type": "code",
   "execution_count": 34,
   "id": "43c44533",
   "metadata": {},
   "outputs": [
    {
     "name": "stdout",
     "output_type": "stream",
     "text": [
      "Nasir is sitting in exam\n"
     ]
    }
   ],
   "source": [
    "s5.appearExam()"
   ]
  },
  {
   "cell_type": "code",
   "execution_count": 35,
   "id": "04257466",
   "metadata": {},
   "outputs": [
    {
     "name": "stdout",
     "output_type": "stream",
     "text": [
      "\n",
      "               Student Profile\n",
      "               _______________\n",
      "               Name: Fahad\n",
      "               Roll Number : 111\n",
      "               Course: Web\n",
      "               Centre:SSUET\n"
     ]
    }
   ],
   "source": [
    "s4.studentProfile()"
   ]
  },
  {
   "cell_type": "code",
   "execution_count": 36,
   "id": "a6b772a8",
   "metadata": {},
   "outputs": [
    {
     "name": "stdout",
     "output_type": "stream",
     "text": [
      "\n",
      "               Student Profile\n",
      "               _______________\n",
      "               Name: Nasir\n",
      "               Roll Number : 111\n",
      "               Course: Web\n",
      "               Centre:SSUET\n"
     ]
    }
   ],
   "source": [
    "s5.studentProfile()"
   ]
  },
  {
   "cell_type": "code",
   "execution_count": 60,
   "id": "87e678d8",
   "metadata": {},
   "outputs": [],
   "source": [
    "class Student():\n",
    "    # class sttribute\n",
    "    centre = \"SSUET\"\n",
    "    course = \"Python\"\n",
    "    \n",
    "    #instance attributes /methods\n",
    "    def __init__(self,name,roll):\n",
    "        #Attributes/characteristics/ variables\n",
    "        self.name = name\n",
    "        self.roll = roll\n",
    "        \n",
    "    #behaviours /functionalities / methods\n",
    "    \n",
    "    def appearExam(self,attendance,feesPaid):\n",
    "        if attendance >=70:\n",
    "            if feesPaid:\n",
    "                print(f\"{self.name} is allowed to sit in exam\")\n",
    "            else:\n",
    "                print(f\"{self.name} is not allowed to sit in exam\")\n",
    "            \n",
    "        else:\n",
    "            print(f\"{self.name} is not allowed to sit in exam\")\n",
    "    \n",
    "    \n",
    "    def studentProfile(self):\n",
    "        print(f\"\"\"\n",
    "               Student Profile\n",
    "               _______________\n",
    "               Name: {self.name}\n",
    "               Roll Number : {self.roll}\n",
    "               Course: {Student.course}\n",
    "               Centre:{Student.centre}\"\"\")\n",
    "        "
   ]
  },
  {
   "cell_type": "code",
   "execution_count": 61,
   "id": "4524187b",
   "metadata": {},
   "outputs": [],
   "source": [
    "s6 = Student(\"Kiran\",111)"
   ]
  },
  {
   "cell_type": "code",
   "execution_count": 62,
   "id": "2b80036c",
   "metadata": {},
   "outputs": [
    {
     "name": "stdout",
     "output_type": "stream",
     "text": [
      "\n",
      "               Student Profile\n",
      "               _______________\n",
      "               Name: Kiran\n",
      "               Roll Number : 111\n",
      "               Course: Python\n",
      "               Centre:SSUET\n"
     ]
    }
   ],
   "source": [
    "s6.studentProfile()"
   ]
  },
  {
   "cell_type": "code",
   "execution_count": 63,
   "id": "32d036db",
   "metadata": {},
   "outputs": [
    {
     "ename": "TypeError",
     "evalue": "appearExam() missing 2 required positional arguments: 'attendance' and 'feesPaid'",
     "output_type": "error",
     "traceback": [
      "\u001b[1;31m---------------------------------------\u001b[0m",
      "\u001b[1;31mTypeError\u001b[0mTraceback (most recent call last)",
      "\u001b[1;32m<ipython-input-63-752a985ddba3>\u001b[0m in \u001b[0;36m<module>\u001b[1;34m\u001b[0m\n\u001b[1;32m----> 1\u001b[1;33m \u001b[0ms6\u001b[0m\u001b[1;33m.\u001b[0m\u001b[0mappearExam\u001b[0m\u001b[1;33m(\u001b[0m\u001b[1;33m)\u001b[0m\u001b[1;33m\u001b[0m\u001b[1;33m\u001b[0m\u001b[0m\n\u001b[0m",
      "\u001b[1;31mTypeError\u001b[0m: appearExam() missing 2 required positional arguments: 'attendance' and 'feesPaid'"
     ]
    }
   ],
   "source": [
    "s6.appearExam()"
   ]
  },
  {
   "cell_type": "code",
   "execution_count": 64,
   "id": "0748683a",
   "metadata": {},
   "outputs": [
    {
     "name": "stdout",
     "output_type": "stream",
     "text": [
      "Kiran is not allowed to sit in exam\n"
     ]
    }
   ],
   "source": [
    "s6.appearExam(56,True)"
   ]
  },
  {
   "cell_type": "code",
   "execution_count": 65,
   "id": "fb79272a",
   "metadata": {},
   "outputs": [
    {
     "name": "stdout",
     "output_type": "stream",
     "text": [
      "Kiran is not allowed to sit in exam\n"
     ]
    }
   ],
   "source": [
    "s6.appearExam(85,False)"
   ]
  },
  {
   "cell_type": "code",
   "execution_count": 66,
   "id": "3d72b044",
   "metadata": {},
   "outputs": [
    {
     "name": "stdout",
     "output_type": "stream",
     "text": [
      "Kiran is allowed to sit in exam\n"
     ]
    }
   ],
   "source": [
    "s6.appearExam(85,True)"
   ]
  },
  {
   "cell_type": "code",
   "execution_count": 67,
   "id": "c03bc4d4",
   "metadata": {},
   "outputs": [],
   "source": [
    "#Assigning default values to attrbiutes \n",
    "class Car():\n",
    "    def __init__(self,make, model, color, engine,wheels=4):\n",
    "        self.make = make\n",
    "        self.model = model\n",
    "        self.color = color\n",
    "        self.engine = engine\n",
    "        self.wheels = 4\n",
    "    "
   ]
  },
  {
   "cell_type": "code",
   "execution_count": 68,
   "id": "34b4f471",
   "metadata": {},
   "outputs": [
    {
     "data": {
      "text/plain": [
       "'Kiran'"
      ]
     },
     "execution_count": 68,
     "metadata": {},
     "output_type": "execute_result"
    }
   ],
   "source": [
    "s6.name"
   ]
  },
  {
   "cell_type": "code",
   "execution_count": 69,
   "id": "0062be31",
   "metadata": {},
   "outputs": [],
   "source": [
    "s6.name = \"Kamran\""
   ]
  },
  {
   "cell_type": "code",
   "execution_count": 70,
   "id": "4acd4d2b",
   "metadata": {},
   "outputs": [
    {
     "data": {
      "text/plain": [
       "'Kamran'"
      ]
     },
     "execution_count": 70,
     "metadata": {},
     "output_type": "execute_result"
    }
   ],
   "source": [
    "s6.name"
   ]
  },
  {
   "cell_type": "code",
   "execution_count": 71,
   "id": "8966f569",
   "metadata": {},
   "outputs": [],
   "source": [
    "Student.course = \"Pandas\""
   ]
  },
  {
   "cell_type": "code",
   "execution_count": 72,
   "id": "37459213",
   "metadata": {},
   "outputs": [
    {
     "name": "stdout",
     "output_type": "stream",
     "text": [
      "\n",
      "               Student Profile\n",
      "               _______________\n",
      "               Name: Kamran\n",
      "               Roll Number : 111\n",
      "               Course: Pandas\n",
      "               Centre:SSUET\n"
     ]
    }
   ],
   "source": [
    "s6.studentProfile()"
   ]
  },
  {
   "cell_type": "code",
   "execution_count": 73,
   "id": "71a1ee40",
   "metadata": {},
   "outputs": [],
   "source": [
    "s6.name = \"Kashif\""
   ]
  },
  {
   "cell_type": "code",
   "execution_count": 74,
   "id": "f28b8552",
   "metadata": {},
   "outputs": [
    {
     "data": {
      "text/plain": [
       "'Kashif'"
      ]
     },
     "execution_count": 74,
     "metadata": {},
     "output_type": "execute_result"
    }
   ],
   "source": [
    "s6.name"
   ]
  },
  {
   "cell_type": "markdown",
   "id": "249610ce",
   "metadata": {},
   "source": [
    "# Getters Setters"
   ]
  },
  {
   "cell_type": "code",
   "execution_count": 80,
   "id": "bf4e9206",
   "metadata": {},
   "outputs": [],
   "source": [
    "class Student():\n",
    "    def __init__(self,name,roll,course,centre):\n",
    "        #Attributes/characteristics/ variables\n",
    "        self.name = name\n",
    "        self.roll = roll\n",
    "        self.course = course\n",
    "        self.centre = centre\n",
    "    #behaviours /functionalities / methods\n",
    "    \n",
    "    def appearExam(self):\n",
    "        print(f\"{self.name} is sitting in exam\")\n",
    "    \n",
    "    \n",
    "    def studentProfile(self):\n",
    "        print(f\"\"\"\n",
    "               Student Profile\n",
    "               _______________\n",
    "               Name: {self.name}\n",
    "               Roll Number : {self.roll}\n",
    "               Course: {self.course}\n",
    "               Centre:{self.centre}\"\"\")\n",
    "    \n",
    "    def getName(self):\n",
    "        print(f\"The student name is {self.name}\")\n",
    "    \n",
    "    def setName(self, newName):\n",
    "        self.name = newName\n",
    "        "
   ]
  },
  {
   "cell_type": "code",
   "execution_count": 81,
   "id": "c6799323",
   "metadata": {},
   "outputs": [],
   "source": [
    "s7=Student('Hamid',\"4444\",\"AI\",\"SSUET\")"
   ]
  },
  {
   "cell_type": "code",
   "execution_count": 82,
   "id": "9cec47b0",
   "metadata": {},
   "outputs": [
    {
     "name": "stdout",
     "output_type": "stream",
     "text": [
      "The student name is Hamid\n"
     ]
    }
   ],
   "source": [
    "s7.getName()"
   ]
  },
  {
   "cell_type": "code",
   "execution_count": 83,
   "id": "ca458a03",
   "metadata": {},
   "outputs": [],
   "source": [
    "s7.setName(\"Kashif\")"
   ]
  },
  {
   "cell_type": "code",
   "execution_count": 84,
   "id": "e8fc0622",
   "metadata": {},
   "outputs": [
    {
     "name": "stdout",
     "output_type": "stream",
     "text": [
      "The student name is Kashif\n"
     ]
    }
   ],
   "source": [
    "s7.getName()"
   ]
  },
  {
   "cell_type": "code",
   "execution_count": 85,
   "id": "945823c5",
   "metadata": {},
   "outputs": [],
   "source": [
    "class Line():\n",
    "    def __init__(self, x1,y1,x2,y2):\n",
    "                \n",
    "        self.point_a = (x1,y1)\n",
    "        self.point_b = (x2,y2)\n",
    "    def length(self):\n",
    "        distance = ((self.point_b[0]-self.point_a[0])**2 + (self.point_b[1]-self.point_a[1])**2)**0.5    \n",
    "        return distance\n",
    "    def slope(self):\n",
    "        m  = (self.point_b[1]-self.point_a[1]) / (self.point_b[0]-self.point_a[0])\n",
    "        return m\n",
    "\n",
    "    def linesRelation(self,m1,m2):\n",
    "        if m1==m2:\n",
    "            return \"Lines are parallel\"\n",
    "        elif m1*m2==-1:\n",
    "            return \"Lines are perpendicular\"\n",
    "        else:\n",
    "            return \"Lines are niether parallel nor perpendicular\"\n",
    "        "
   ]
  },
  {
   "cell_type": "code",
   "execution_count": 86,
   "id": "eaa6547a",
   "metadata": {},
   "outputs": [],
   "source": [
    "l1 = Line(3,7,7,2)"
   ]
  },
  {
   "cell_type": "code",
   "execution_count": 87,
   "id": "9cf1827e",
   "metadata": {},
   "outputs": [
    {
     "data": {
      "text/plain": [
       "6.4031242374328485"
      ]
     },
     "execution_count": 87,
     "metadata": {},
     "output_type": "execute_result"
    }
   ],
   "source": [
    "l1.length()"
   ]
  },
  {
   "cell_type": "code",
   "execution_count": 92,
   "id": "9b6d7636",
   "metadata": {},
   "outputs": [],
   "source": [
    "m1 = l1.slope()"
   ]
  },
  {
   "cell_type": "code",
   "execution_count": 89,
   "id": "4a0c534c",
   "metadata": {},
   "outputs": [],
   "source": [
    "l2 = Line(2,7,3,7)"
   ]
  },
  {
   "cell_type": "code",
   "execution_count": 90,
   "id": "fcc253fb",
   "metadata": {},
   "outputs": [
    {
     "data": {
      "text/plain": [
       "1.0"
      ]
     },
     "execution_count": 90,
     "metadata": {},
     "output_type": "execute_result"
    }
   ],
   "source": [
    "l2.length()"
   ]
  },
  {
   "cell_type": "code",
   "execution_count": 91,
   "id": "1ff05fab",
   "metadata": {},
   "outputs": [
    {
     "data": {
      "text/plain": [
       "0.0"
      ]
     },
     "execution_count": 91,
     "metadata": {},
     "output_type": "execute_result"
    }
   ],
   "source": [
    "l2.slope()"
   ]
  },
  {
   "cell_type": "code",
   "execution_count": 93,
   "id": "6a0a7343",
   "metadata": {},
   "outputs": [
    {
     "data": {
      "text/plain": [
       "'Lines are niether parallel nor perpendicular'"
      ]
     },
     "execution_count": 93,
     "metadata": {},
     "output_type": "execute_result"
    }
   ],
   "source": [
    "l1.linesRelation(l1.slope(),l2.slope())"
   ]
  },
  {
   "cell_type": "markdown",
   "id": "99cfc079",
   "metadata": {},
   "source": [
    "\n",
    "# Inheritance "
   ]
  },
  {
   "cell_type": "code",
   "execution_count": 29,
   "id": "07597748",
   "metadata": {},
   "outputs": [],
   "source": [
    "class CellPhone():\n",
    "    def __init__(self, model, make,battery):\n",
    "        self.model = model \n",
    "        self.make = make\n",
    "        self.battery = battery\n",
    "    def makecall(self):\n",
    "        print(f\"{self.model} is calling\")\n",
    "    def recvCall(self):\n",
    "        print(f\"{self.model} is recving call\")\n",
    "    def Game(self):\n",
    "        print(f\"{self.model} is playing game \")"
   ]
  },
  {
   "cell_type": "code",
   "execution_count": 30,
   "id": "5d820735",
   "metadata": {},
   "outputs": [],
   "source": [
    "class Nokia(CellPhone):\n",
    "    def __init__(self,make, model, battery, camera, calc, radio):\n",
    "        self.camera = camera\n",
    "        self.calc = calc\n",
    "        self.radio = radio\n",
    "        super().__init__(make,model,battery)\n",
    "    def Game(self):\n",
    "        print(\"Snake game is running\")\n",
    "        "
   ]
  },
  {
   "cell_type": "code",
   "execution_count": 31,
   "id": "55313402",
   "metadata": {},
   "outputs": [],
   "source": [
    "phone1 = Nokia(\"3310\",\"nokia\",\"12amp\", \"6mpxl\", 'simple',True)"
   ]
  },
  {
   "cell_type": "code",
   "execution_count": 32,
   "id": "0718e8bf",
   "metadata": {},
   "outputs": [
    {
     "name": "stdout",
     "output_type": "stream",
     "text": [
      "3310 is calling\n"
     ]
    }
   ],
   "source": [
    "phone1.makecall()"
   ]
  },
  {
   "cell_type": "code",
   "execution_count": 33,
   "id": "8e84c740",
   "metadata": {},
   "outputs": [],
   "source": [
    "c1 = CellPhone(\"Smart\", \"Sony\", \"12amp\")"
   ]
  },
  {
   "cell_type": "code",
   "execution_count": 34,
   "id": "40b4e36a",
   "metadata": {},
   "outputs": [
    {
     "name": "stdout",
     "output_type": "stream",
     "text": [
      "Smart is calling\n"
     ]
    }
   ],
   "source": [
    "c1.makecall()"
   ]
  },
  {
   "cell_type": "code",
   "execution_count": 37,
   "id": "99b54f98",
   "metadata": {},
   "outputs": [],
   "source": [
    "class SmartPhone(CellPhone):\n",
    "    def __init__(self,make, model, battery, camera, calc, radio):\n",
    "        self.camera = camera\n",
    "        self.calc = calc\n",
    "        self.radio = radio\n",
    "        super().__init__(make,model,battery)\n",
    "    def Game(self):\n",
    "        print(\"PUBG\")"
   ]
  },
  {
   "cell_type": "code",
   "execution_count": 38,
   "id": "6f61c68d",
   "metadata": {},
   "outputs": [],
   "source": [
    "sm1 = SmartPhone(\"Samsung\", \"Node8\",'20amp','48pxl',\"scienctific\", \"False\")"
   ]
  },
  {
   "cell_type": "code",
   "execution_count": 39,
   "id": "32b722c6",
   "metadata": {},
   "outputs": [
    {
     "name": "stdout",
     "output_type": "stream",
     "text": [
      "PUBG\n"
     ]
    }
   ],
   "source": [
    "sm1.Game()"
   ]
  },
  {
   "cell_type": "code",
   "execution_count": 40,
   "id": "84cd1af5",
   "metadata": {},
   "outputs": [
    {
     "name": "stdout",
     "output_type": "stream",
     "text": [
      "Smart is playing game \n"
     ]
    }
   ],
   "source": [
    "c1.Game()"
   ]
  },
  {
   "cell_type": "code",
   "execution_count": 41,
   "id": "958418b3",
   "metadata": {},
   "outputs": [
    {
     "name": "stdout",
     "output_type": "stream",
     "text": [
      "3310 is playing game \n"
     ]
    }
   ],
   "source": [
    "phone1.Game()"
   ]
  },
  {
   "cell_type": "markdown",
   "id": "dfca69bc",
   "metadata": {},
   "source": [
    "# Object as attribute "
   ]
  },
  {
   "cell_type": "code",
   "execution_count": 48,
   "id": "98f2e863",
   "metadata": {},
   "outputs": [],
   "source": [
    "class Car():\n",
    "    def __init__(self,make, model, color, engine,wheels=4):\n",
    "        self.make = make\n",
    "        self.model = model\n",
    "        self.color = color\n",
    "        self.engine = engine\n",
    "    def run(self):\n",
    "        print(f\"Car{self.make}{self.model}{self.color}{self.engine} is running\")\n",
    "    def stop(self):\n",
    "        print(f\"Car{self.make}{self.model}{self.color}{self.engine} is stop\")\n",
    "    def fuelTank(self):\n",
    "        print(f\"Car{self.make}{self.model}{self.color}{self.engine} is filling fuel\")\n",
    "    "
   ]
  },
  {
   "cell_type": "code",
   "execution_count": 52,
   "id": "5edc31b1",
   "metadata": {},
   "outputs": [],
   "source": [
    "class Battery():\n",
    "    def __init__(self,manuf, amp, cells, time):\n",
    "        self.manuf = manuf\n",
    "        self.amp =amp\n",
    "        self.time = time\n",
    "        self.cells = cells\n",
    "    "
   ]
  },
  {
   "cell_type": "code",
   "execution_count": 59,
   "id": "6252559b",
   "metadata": {},
   "outputs": [],
   "source": [
    "class ElectricCar(Car):\n",
    "    def __init__(self,make, model, color, engine,wheels,manuf, amp, cells,time ):\n",
    "        super().__init__(make,model,color,engine,wheels)\n",
    "        self.battery = Battery(manuf, amp, cells,time )\n",
    "        \n",
    "        \n",
    "    def fuelTank(self):\n",
    "        print(f\"Car{self.make}{self.model}{self.color}{self.engine} has no fuel tank\")\n",
    "    "
   ]
  },
  {
   "cell_type": "code",
   "execution_count": 60,
   "id": "2cc87a43",
   "metadata": {},
   "outputs": [],
   "source": [
    "e2 = ElectricCar(\"Tesla\",\"Audi\",\"White\",\"1300CC\", '4',\"AGS\",'200','27','3hour')"
   ]
  },
  {
   "cell_type": "code",
   "execution_count": 61,
   "id": "a8262ee3",
   "metadata": {},
   "outputs": [
    {
     "data": {
      "text/plain": [
       "'White'"
      ]
     },
     "execution_count": 61,
     "metadata": {},
     "output_type": "execute_result"
    }
   ],
   "source": [
    "e2.color"
   ]
  },
  {
   "cell_type": "code",
   "execution_count": 62,
   "id": "af739078",
   "metadata": {},
   "outputs": [
    {
     "data": {
      "text/plain": [
       "'27'"
      ]
     },
     "execution_count": 62,
     "metadata": {},
     "output_type": "execute_result"
    }
   ],
   "source": [
    "e2.battery.cells"
   ]
  },
  {
   "cell_type": "code",
   "execution_count": null,
   "id": "a3ee382c",
   "metadata": {},
   "outputs": [],
   "source": []
  }
 ],
 "metadata": {
  "kernelspec": {
   "display_name": "Python 3",
   "language": "python",
   "name": "python3"
  },
  "language_info": {
   "codemirror_mode": {
    "name": "ipython",
    "version": 3
   },
   "file_extension": ".py",
   "mimetype": "text/x-python",
   "name": "python",
   "nbconvert_exporter": "python",
   "pygments_lexer": "ipython3",
   "version": "3.7.4"
  }
 },
 "nbformat": 4,
 "nbformat_minor": 5
}
