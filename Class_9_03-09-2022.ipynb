{
 "cells": [
  {
   "cell_type": "markdown",
   "id": "1803a972",
   "metadata": {},
   "source": [
    "# OOP"
   ]
  },
  {
   "cell_type": "code",
   "execution_count": null,
   "id": "104ec234",
   "metadata": {},
   "outputs": [],
   "source": [
    "Every object has Attributes & Variables/behaviour\n",
    "\n",
    "Class is blueprint, a thing which devlelops 1st time is a class\n",
    "\n",
    "E.g, mobile phone invented 1st time is a class, and copy units of the mobile are objects. Class is a blueprint of an object\n",
    "\n",
    "Class should contain generic attributes\n"
   ]
  },
  {
   "cell_type": "code",
   "execution_count": null,
   "id": "ece7adc9",
   "metadata": {},
   "outputs": [],
   "source": [
    "class\n",
    "object\n",
    "attributes\n",
    "behaviours\n",
    "\n",
    "Abraction\n",
    "Poloymorphism\n",
    "Incapsulation\n",
    "Encapsulation"
   ]
  },
  {
   "cell_type": "code",
   "execution_count": 1,
   "id": "3a0050d7",
   "metadata": {},
   "outputs": [],
   "source": [
    "#defining class\n",
    "class Student():\n",
    "    #attributes\n",
    "    name=\"Ali\"\n",
    "    gender=\"Male\"\n",
    "    age=\"23\"\n",
    "    course=\"AI\"\n",
    "    roll=123\n",
    "    institue='SSUET'\n",
    "    pass"
   ]
  },
  {
   "cell_type": "code",
   "execution_count": null,
   "id": "a0c4149e",
   "metadata": {},
   "outputs": [],
   "source": []
  },
  {
   "cell_type": "code",
   "execution_count": 2,
   "id": "4ae116d4",
   "metadata": {},
   "outputs": [],
   "source": [
    "#object creation\n",
    "student1=Student()"
   ]
  },
  {
   "cell_type": "code",
   "execution_count": 3,
   "id": "204682b9",
   "metadata": {},
   "outputs": [
    {
     "data": {
      "text/plain": [
       "'Ali'"
      ]
     },
     "execution_count": 3,
     "metadata": {},
     "output_type": "execute_result"
    }
   ],
   "source": [
    "student1.name"
   ]
  },
  {
   "cell_type": "code",
   "execution_count": 4,
   "id": "ad9917fb",
   "metadata": {},
   "outputs": [
    {
     "data": {
      "text/plain": [
       "'AI'"
      ]
     },
     "execution_count": 4,
     "metadata": {},
     "output_type": "execute_result"
    }
   ],
   "source": [
    "student1.course"
   ]
  },
  {
   "cell_type": "code",
   "execution_count": 5,
   "id": "a5f478e3",
   "metadata": {},
   "outputs": [],
   "source": [
    "student2=Student()"
   ]
  },
  {
   "cell_type": "code",
   "execution_count": 6,
   "id": "97d9ef7d",
   "metadata": {},
   "outputs": [
    {
     "data": {
      "text/plain": [
       "'Ali'"
      ]
     },
     "execution_count": 6,
     "metadata": {},
     "output_type": "execute_result"
    }
   ],
   "source": [
    "student2.name"
   ]
  },
  {
   "cell_type": "code",
   "execution_count": null,
   "id": "9065f071",
   "metadata": {},
   "outputs": [],
   "source": [
    "whenever object is created, it will call initialiser by default. Instance attributes and methods"
   ]
  },
  {
   "cell_type": "code",
   "execution_count": 88,
   "id": "bc6f7ca7",
   "metadata": {},
   "outputs": [],
   "source": [
    "class Student():\n",
    "    #class attribute\n",
    "    centre=\"SSUET\"\n",
    "    course: \"Python\"\n",
    "    #instance attributes/methods:\n",
    "    def __init__(self,name,roll):\n",
    "        \n",
    "        self.name= name\n",
    "        self.roll= roll\n",
    "        \n",
    "    #behaviours //funcitonalities//methods\n",
    "    def appearExam(self, attendance,feesPaid):\n",
    "        if attendance >=70:\n",
    "            \n",
    "            if feesPaid:\n",
    "                print(f\"{self.name} is allowed to sit in exam\")\n",
    "            else:\n",
    "                 print(f\"{self.name} is not allowed to sit in exam\")\n",
    "                \n",
    "            \n",
    "        else:\n",
    "            print(f\"{self.name} is not allowed to sit in exam\")\n",
    "        \n",
    "        \n",
    "    def studentProf(self):\n",
    "        print(f\"\"\" \n",
    "               Student Profile\n",
    "               ===============\n",
    "               Name: {self.name}\n",
    "               Roll Number: {self.roll}\n",
    "               Course: {Student.course}\n",
    "               Centre: {Student.centre}\"\"\")\n",
    "    def getName (self):\n",
    "        print (f\"The student name is {self.name}\")\n",
    "    def setName(self,newName):\n",
    "        self.name=newName\n",
    "        "
   ]
  },
  {
   "cell_type": "code",
   "execution_count": 89,
   "id": "58260dfd",
   "metadata": {},
   "outputs": [],
   "source": [
    "s7=Student(\"ALI\",123)"
   ]
  },
  {
   "cell_type": "code",
   "execution_count": 90,
   "id": "8a91f1cf",
   "metadata": {},
   "outputs": [
    {
     "name": "stdout",
     "output_type": "stream",
     "text": [
      "The student name is ALI\n"
     ]
    }
   ],
   "source": [
    "s7.getName()"
   ]
  },
  {
   "cell_type": "code",
   "execution_count": 91,
   "id": "4f32496c",
   "metadata": {},
   "outputs": [],
   "source": [
    "s7.setName(\"KASHIF\")"
   ]
  },
  {
   "cell_type": "code",
   "execution_count": 92,
   "id": "de73a565",
   "metadata": {},
   "outputs": [
    {
     "name": "stdout",
     "output_type": "stream",
     "text": [
      "The student name is KASHIF\n"
     ]
    }
   ],
   "source": [
    "s7.getName()"
   ]
  },
  {
   "cell_type": "code",
   "execution_count": null,
   "id": "08d958e0",
   "metadata": {},
   "outputs": [],
   "source": [
    "s1=Student(\"ALI\",123)"
   ]
  },
  {
   "cell_type": "code",
   "execution_count": 46,
   "id": "87cc48ca",
   "metadata": {},
   "outputs": [],
   "source": [
    "s4=Student(\"Fahad\",111,\"Web\",\"SSUET\")"
   ]
  },
  {
   "cell_type": "code",
   "execution_count": 72,
   "id": "e6671dc8",
   "metadata": {},
   "outputs": [
    {
     "data": {
      "text/plain": [
       "123"
      ]
     },
     "execution_count": 72,
     "metadata": {},
     "output_type": "execute_result"
    }
   ],
   "source": [
    "s1.roll"
   ]
  },
  {
   "cell_type": "code",
   "execution_count": 60,
   "id": "2c71595b",
   "metadata": {},
   "outputs": [
    {
     "name": "stdout",
     "output_type": "stream",
     "text": [
      "ALI is allowed to sit in exam\n"
     ]
    }
   ],
   "source": [
    "s1.appearExam(72,True)"
   ]
  },
  {
   "cell_type": "code",
   "execution_count": 14,
   "id": "c65dc7ad",
   "metadata": {},
   "outputs": [
    {
     "data": {
      "text/plain": [
       "'ALI'"
      ]
     },
     "execution_count": 14,
     "metadata": {},
     "output_type": "execute_result"
    }
   ],
   "source": [
    "s1.name"
   ]
  },
  {
   "cell_type": "code",
   "execution_count": 47,
   "id": "29a5c4f2",
   "metadata": {},
   "outputs": [
    {
     "name": "stdout",
     "output_type": "stream",
     "text": [
      "Fahad is sitting in exam\n"
     ]
    }
   ],
   "source": [
    "s4.appearExam()"
   ]
  },
  {
   "cell_type": "code",
   "execution_count": 44,
   "id": "fdd39745",
   "metadata": {},
   "outputs": [
    {
     "name": "stdout",
     "output_type": "stream",
     "text": [
      " \n",
      "               Student Profile\n",
      "               ===============\n",
      "               NameL Fahad\n",
      "               Roll Number: 111\n",
      "               Course: Web\n",
      "               Centre: SSUET\n"
     ]
    }
   ],
   "source": [
    "s4.studentProf()"
   ]
  },
  {
   "cell_type": "code",
   "execution_count": 15,
   "id": "5504dab1",
   "metadata": {},
   "outputs": [],
   "source": [
    "s2=Student(\"Yasir\",456,\"AI\",\"UIT\")"
   ]
  },
  {
   "cell_type": "code",
   "execution_count": null,
   "id": "56513aa3",
   "metadata": {},
   "outputs": [],
   "source": []
  },
  {
   "cell_type": "code",
   "execution_count": 18,
   "id": "bccff0ab",
   "metadata": {},
   "outputs": [
    {
     "data": {
      "text/plain": [
       "'UIT'"
      ]
     },
     "execution_count": 18,
     "metadata": {},
     "output_type": "execute_result"
    }
   ],
   "source": [
    "s2.centre"
   ]
  },
  {
   "cell_type": "code",
   "execution_count": 21,
   "id": "a0108804",
   "metadata": {},
   "outputs": [],
   "source": [
    "class Employee():\n",
    "    def __init__(self,name,grade,emp_no,dept_cd,company):\n",
    "        self.name=name\n",
    "        self.grade=grade\n",
    "        self.emp_no=emp_no\n",
    "        self.dept_cd=dept_cd\n",
    "        self.company=company"
   ]
  },
  {
   "cell_type": "code",
   "execution_count": 22,
   "id": "d06828bc",
   "metadata": {},
   "outputs": [],
   "source": [
    "emp_1=Employee(\"Zeeshan\",\"Manager\", 17250,\"IT_DEV\",\"BAHL\")"
   ]
  },
  {
   "cell_type": "code",
   "execution_count": 26,
   "id": "e9ddf5b6",
   "metadata": {},
   "outputs": [
    {
     "data": {
      "text/plain": [
       "('Manager', 'IT_DEV')"
      ]
     },
     "execution_count": 26,
     "metadata": {},
     "output_type": "execute_result"
    }
   ],
   "source": [
    "emp_1.grade, emp_1.dept_cd"
   ]
  },
  {
   "cell_type": "code",
   "execution_count": 24,
   "id": "9c71334a",
   "metadata": {},
   "outputs": [
    {
     "data": {
      "text/plain": [
       "17250"
      ]
     },
     "execution_count": 24,
     "metadata": {},
     "output_type": "execute_result"
    }
   ],
   "source": [
    "emp_1.emp_no"
   ]
  },
  {
   "cell_type": "code",
   "execution_count": 33,
   "id": "b99300b0",
   "metadata": {},
   "outputs": [],
   "source": [
    "class Car():\n",
    "    def __init__(self,tyre,stearing,color,dashboard,suspension):\n",
    "        self.tyre=tyre\n",
    "        self.stearing=stearing\n",
    "        self.color=color\n",
    "        self.dashboard=dashboard\n",
    "        self.suspension=suspension"
   ]
  },
  {
   "cell_type": "code",
   "execution_count": 34,
   "id": "cf15dd43",
   "metadata": {},
   "outputs": [],
   "source": [
    "cultus=Car(\"Hankook\",\"power\",\"gray\",\"fully loaded\",\"AGS\")"
   ]
  },
  {
   "cell_type": "code",
   "execution_count": 35,
   "id": "c013ec80",
   "metadata": {},
   "outputs": [
    {
     "data": {
      "text/plain": [
       "'gray'"
      ]
     },
     "execution_count": 35,
     "metadata": {},
     "output_type": "execute_result"
    }
   ],
   "source": [
    "cultus.color"
   ]
  },
  {
   "cell_type": "code",
   "execution_count": 36,
   "id": "39ea2a38",
   "metadata": {},
   "outputs": [],
   "source": [
    "alto=Car(\"Radial\",\"normal\",\"while\",\"nomral\",\"manual\")"
   ]
  },
  {
   "cell_type": "code",
   "execution_count": 73,
   "id": "bb531130",
   "metadata": {},
   "outputs": [],
   "source": [
    "alto.color=\"black\""
   ]
  },
  {
   "cell_type": "code",
   "execution_count": 74,
   "id": "f29afdea",
   "metadata": {},
   "outputs": [
    {
     "data": {
      "text/plain": [
       "'black'"
      ]
     },
     "execution_count": 74,
     "metadata": {},
     "output_type": "execute_result"
    }
   ],
   "source": [
    "alto.color"
   ]
  },
  {
   "cell_type": "code",
   "execution_count": 38,
   "id": "3dd9d135",
   "metadata": {},
   "outputs": [
    {
     "data": {
      "text/plain": [
       "'gray'"
      ]
     },
     "execution_count": 38,
     "metadata": {},
     "output_type": "execute_result"
    }
   ],
   "source": [
    "cultus.color"
   ]
  },
  {
   "cell_type": "code",
   "execution_count": null,
   "id": "7ad03463",
   "metadata": {},
   "outputs": [],
   "source": []
  },
  {
   "cell_type": "code",
   "execution_count": null,
   "id": "fad5891f",
   "metadata": {},
   "outputs": [],
   "source": []
  },
  {
   "cell_type": "markdown",
   "id": "d27fac57",
   "metadata": {},
   "source": [
    "All functions which define in class is called Behaviour"
   ]
  },
  {
   "cell_type": "code",
   "execution_count": null,
   "id": "2d15361c",
   "metadata": {},
   "outputs": [],
   "source": [
    "class Car():\n",
    "    def __init__(self,make,color,engine,wheel=1):\n",
    "        self.make=make\n",
    "        self.model=model\n",
    "        self.color=color\n",
    "        self.engine=engine\n",
    "        self.wheels=4\n",
    "        "
   ]
  },
  {
   "cell_type": "markdown",
   "id": "fb3d7518",
   "metadata": {},
   "source": [
    "# Getters and Setters"
   ]
  },
  {
   "cell_type": "code",
   "execution_count": null,
   "id": "50d5b4b0",
   "metadata": {},
   "outputs": [],
   "source": [
    "class tbml_Exception():\n",
    "    branch_cd=1001\n",
    "    branch_name=\"Karachi Main\"\n",
    "    def __init__(self,country,hs_code):\n",
    "        self.country=country\n",
    "        self.hs_code=hs_code\n",
    "    def set_name(self,newName):\n",
    "        self.country=newName\n",
    "        \n",
    "    \n"
   ]
  },
  {
   "cell_type": "code",
   "execution_count": 93,
   "id": "c616349d",
   "metadata": {},
   "outputs": [
    {
     "ename": "NameError",
     "evalue": "name 'tbml_Exception' is not defined",
     "output_type": "error",
     "traceback": [
      "\u001b[1;31m---------------------------------------------------------------------------\u001b[0m",
      "\u001b[1;31mNameError\u001b[0m                                 Traceback (most recent call last)",
      "Input \u001b[1;32mIn [93]\u001b[0m, in \u001b[0;36m<cell line: 1>\u001b[1;34m()\u001b[0m\n\u001b[1;32m----> 1\u001b[0m s\u001b[38;5;241m=\u001b[39m\u001b[43mtbml_Exception\u001b[49m(\u001b[38;5;124m\"\u001b[39m\u001b[38;5;124mUSA\u001b[39m\u001b[38;5;124m\"\u001b[39m,\u001b[38;5;241m1234.2255\u001b[39m)\n",
      "\u001b[1;31mNameError\u001b[0m: name 'tbml_Exception' is not defined"
     ]
    }
   ],
   "source": [
    "s=tbml_Exception(\"USA\",1234.2255)"
   ]
  },
  {
   "cell_type": "code",
   "execution_count": null,
   "id": "ccf3ed4c",
   "metadata": {},
   "outputs": [],
   "source": [
    "class Student():\n",
    "    #class attribute\n",
    "    centre=\"SSUET\"\n",
    "    course: \"Python\"\n",
    "    #instance attributes/methods:\n",
    "    def __init__(self,name,roll):\n",
    "        \n",
    "        self.name= name\n",
    "        self.roll= roll\n",
    "        \n",
    "    #behaviours //funcitonalities//methods\n",
    "    def appearExam(self, attendance,feesPaid):\n",
    "        if attendance >=70:\n",
    "            \n",
    "            if feesPaid:\n",
    "                print(f\"{self.name} is allowed to sit in exam\")\n",
    "            else:\n",
    "                 print(f\"{self.name} is not allowed to sit in exam\")\n",
    "                \n",
    "            \n",
    "        else:\n",
    "            print(f\"{self.name} is not allowed to sit in exam\")\n",
    "        \n",
    "        \n",
    "    def studentProf(self):\n",
    "        print(f\"\"\" \n",
    "               Student Profile\n",
    "               ===============\n",
    "               Name: {self.name}\n",
    "               Roll Number: {self.roll}\n",
    "               Course: {Student.course}\n",
    "               Centre: {Student.centre}\"\"\")\n",
    "    def getName (self):\n",
    "        print (f\"The student name is {self.name}\")\n",
    "    def setName(self,newName):\n",
    "        self.name=newName\n"
   ]
  },
  {
   "cell_type": "code",
   "execution_count": 119,
   "id": "a4c6a18e",
   "metadata": {},
   "outputs": [],
   "source": [
    "class Line():\n",
    "    def __init__(self, x1,y1,x2,y2):\n",
    "        self.point_a=(x1,y1)\n",
    "        self.point_b=(x2,y2)\n",
    "    def lenght(self):\n",
    "        distance=((self.point_b[0]-self.point_a[0])**2+(self.point_b[1]-self.point_a[1])**2)**.5\n",
    "        return distance\n",
    "    def slope(self):\n",
    "        m= (self.point_b[1]-self.point_a[1])/(self.point_b[0]-self.point_a[0])\n",
    "        return m\n",
    "    def linesareperp(self,m1,m2):\n",
    "        if m1==m2:\n",
    "            return \"Lines are Parallel\"\n",
    "        elif m1*m2== -1:\n",
    "            return \"Lines are perpendicular\"\n",
    "        else:\n",
    "            return \"Lines are neither parallel nor perpendicular\"\n",
    "    \n",
    "            \n",
    "    "
   ]
  },
  {
   "cell_type": "code",
   "execution_count": 120,
   "id": "57963f13",
   "metadata": {},
   "outputs": [],
   "source": [
    "l1=Line(2,3,4,5)"
   ]
  },
  {
   "cell_type": "code",
   "execution_count": 121,
   "id": "028a5e0f",
   "metadata": {},
   "outputs": [
    {
     "data": {
      "text/plain": [
       "2.8284271247461903"
      ]
     },
     "execution_count": 121,
     "metadata": {},
     "output_type": "execute_result"
    }
   ],
   "source": [
    "l1.lenght()"
   ]
  },
  {
   "cell_type": "code",
   "execution_count": 122,
   "id": "d9f15190",
   "metadata": {},
   "outputs": [
    {
     "data": {
      "text/plain": [
       "1.0"
      ]
     },
     "execution_count": 122,
     "metadata": {},
     "output_type": "execute_result"
    }
   ],
   "source": [
    "l1.slope()"
   ]
  },
  {
   "cell_type": "code",
   "execution_count": 123,
   "id": "03fe3ebc",
   "metadata": {},
   "outputs": [
    {
     "data": {
      "text/plain": [
       "'Lines are perpendicular'"
      ]
     },
     "execution_count": 123,
     "metadata": {},
     "output_type": "execute_result"
    }
   ],
   "source": [
    "l1.linesareperp(1,-1)"
   ]
  },
  {
   "cell_type": "markdown",
   "id": "1abd4ce7",
   "metadata": {},
   "source": [
    "# Inheritance"
   ]
  },
  {
   "cell_type": "code",
   "execution_count": null,
   "id": "de5d1153",
   "metadata": {},
   "outputs": [],
   "source": [
    "encapsulation (get set value) -- done\n",
    "inheritance --now started\n",
    "\n",
    "Inheritance is used to move forward after modify existing class for further useability. Is a relationship is precondition.\n",
    "student is human. Neem tree is a tree, chair is a furniture etc"
   ]
  },
  {
   "cell_type": "code",
   "execution_count": 133,
   "id": "c2f6b0b9",
   "metadata": {},
   "outputs": [],
   "source": [
    "class CellPhone():\n",
    "    def __init__(self,model, make, battery):\n",
    "        self.model=model\n",
    "        self.make=make\n",
    "        self.battery=battery\n",
    "    def makecall():\n",
    "        pass\n",
    "    def recvCall():\n",
    "        pass\n",
    "    def Game():\n",
    "        pass\n",
    "    "
   ]
  },
  {
   "cell_type": "code",
   "execution_count": 134,
   "id": "e8f8b772",
   "metadata": {},
   "outputs": [],
   "source": [
    "class smartPhone (CellPhone):\n",
    "    pass"
   ]
  },
  {
   "cell_type": "code",
   "execution_count": 136,
   "id": "cf28b264",
   "metadata": {},
   "outputs": [],
   "source": [
    "sp1=smartPhone(\"aaas\",\"asdf\",123)"
   ]
  },
  {
   "cell_type": "code",
   "execution_count": 137,
   "id": "b639c452",
   "metadata": {},
   "outputs": [
    {
     "data": {
      "text/plain": [
       "'aaas'"
      ]
     },
     "execution_count": 137,
     "metadata": {},
     "output_type": "execute_result"
    }
   ],
   "source": [
    "sp1.model"
   ]
  },
  {
   "cell_type": "code",
   "execution_count": null,
   "id": "a22f9a01",
   "metadata": {},
   "outputs": [],
   "source": []
  }
 ],
 "metadata": {
  "kernelspec": {
   "display_name": "Python 3 (ipykernel)",
   "language": "python",
   "name": "python3"
  },
  "language_info": {
   "codemirror_mode": {
    "name": "ipython",
    "version": 3
   },
   "file_extension": ".py",
   "mimetype": "text/x-python",
   "name": "python",
   "nbconvert_exporter": "python",
   "pygments_lexer": "ipython3",
   "version": "3.9.12"
  }
 },
 "nbformat": 4,
 "nbformat_minor": 5
}
