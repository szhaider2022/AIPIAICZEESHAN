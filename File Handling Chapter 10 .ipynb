{
 "cells": [
  {
   "cell_type": "code",
   "execution_count": 26,
   "id": "2024fd09",
   "metadata": {},
   "outputs": [],
   "source": [
    "#File Handling\n",
    "with open(\"greeter.txt\", \"w\") as f:\n",
    "    f.write(\"Hello, python!\")"
   ]
  },
  {
   "cell_type": "code",
   "execution_count": 16,
   "id": "d4239a07",
   "metadata": {},
   "outputs": [],
   "source": [
    "greeting=\"Hello Brother!\"\n",
    "with open(\"greeter.txt\",\"w\") as f:\n",
    "    f.write(greeting)"
   ]
  },
  {
   "cell_type": "code",
   "execution_count": 29,
   "id": "7f425b8e",
   "metadata": {},
   "outputs": [],
   "source": [
    "with open(\"greeter.txt\",\"r\") as f:\n",
    "    text_of_file=f.read()"
   ]
  },
  {
   "cell_type": "code",
   "execution_count": 30,
   "id": "7375aa77",
   "metadata": {},
   "outputs": [
    {
     "name": "stdout",
     "output_type": "stream",
     "text": [
      "Hello, python!\n"
     ]
    }
   ],
   "source": [
    "print(text_of_file)"
   ]
  },
  {
   "cell_type": "code",
   "execution_count": 33,
   "id": "4ec3c40a",
   "metadata": {},
   "outputs": [],
   "source": [
    "with open(\"greet.txt\",\"a\") as f:\n",
    "    f.write(\"\\nHave a nice working!\")"
   ]
  },
  {
   "cell_type": "code",
   "execution_count": 34,
   "id": "5aa673a9",
   "metadata": {},
   "outputs": [
    {
     "name": "stdout",
     "output_type": "stream",
     "text": [
      "Hello Brother!\n",
      "Have a nice day!\n",
      "Have a nice working!\n"
     ]
    }
   ],
   "source": [
    "with open(\"greet.txt\") as f:\n",
    "    text_of_file=f.read()\n",
    "    print(text_of_file)"
   ]
  },
  {
   "cell_type": "code",
   "execution_count": 84,
   "id": "0d0addea",
   "metadata": {},
   "outputs": [],
   "source": [
    "import csv"
   ]
  },
  {
   "cell_type": "code",
   "execution_count": 98,
   "id": "ed35b16b",
   "metadata": {},
   "outputs": [
    {
     "name": "stdout",
     "output_type": "stream",
     "text": [
      "['Year  ', 'Event', ' Winner', '1995', 'Best-Kept Lawn', 'None', '1999', 'Football', 'Shahzad', '2005', 'Worldcup', 'Usman']\n"
     ]
    }
   ],
   "source": [
    "with open(\"competitions.csv\") as f:\n",
    "    contents_of_file=csv.reader(f)\n",
    "    potter_competitions=[]\n",
    "    for each_line in contents_of_file:\n",
    "        potter_competitions +=each_line\n",
    "    print(f\"\"\"{potter_competitions}\"\"\")\n",
    "        "
   ]
  },
  {
   "cell_type": "code",
   "execution_count": 105,
   "id": "eb51c730",
   "metadata": {},
   "outputs": [
    {
     "name": "stdout",
     "output_type": "stream",
     "text": [
      "Enter the name of the competition: zsadaf\n"
     ]
    },
    {
     "ename": "ValueError",
     "evalue": "'zsadaf' is not in list",
     "output_type": "error",
     "traceback": [
      "\u001b[1;31m---------------------------------------------------------------------------\u001b[0m",
      "\u001b[1;31mValueError\u001b[0m                                Traceback (most recent call last)",
      "Input \u001b[1;32mIn [105]\u001b[0m, in \u001b[0;36m<cell line: 3>\u001b[1;34m()\u001b[0m\n\u001b[0;32m      1\u001b[0m target\u001b[38;5;241m=\u001b[39m\u001b[38;5;28minput\u001b[39m(\u001b[38;5;124m\"\u001b[39m\u001b[38;5;124mEnter the name of the competition: \u001b[39m\u001b[38;5;124m\"\u001b[39m)\n\u001b[0;32m      2\u001b[0m \u001b[38;5;66;03m#potter_competitions.append(target)\u001b[39;00m\n\u001b[1;32m----> 3\u001b[0m index_number_of_target\u001b[38;5;241m=\u001b[39m\u001b[43mpotter_competitions\u001b[49m\u001b[38;5;241;43m.\u001b[39;49m\u001b[43mindex\u001b[49m\u001b[43m(\u001b[49m\u001b[43mtarget\u001b[49m\u001b[43m)\u001b[49m\n\u001b[0;32m      4\u001b[0m index_number_of_winner \u001b[38;5;241m=\u001b[39mindex_number_of_target\u001b[38;5;241m+\u001b[39m\u001b[38;5;241m1\u001b[39m\n\u001b[0;32m      5\u001b[0m the_winner\u001b[38;5;241m=\u001b[39mpotter\u001b[38;5;241m.\u001b[39mcompetition[index_number_of_winner]\n",
      "\u001b[1;31mValueError\u001b[0m: 'zsadaf' is not in list"
     ]
    }
   ],
   "source": [
    "target=input(\"Enter the name of the competition: \")\n",
    "#potter_competitions.append(target)\n",
    "index_number_of_target=potter_competitions.index(target)\n",
    "index_number_of_winner =index_number_of_target+1\n",
    "the_winner=potter.competition[index_number_of_winner]\n",
    "print(\"The winner is \"+ the_winner)\n"
   ]
  },
  {
   "cell_type": "code",
   "execution_count": 2,
   "id": "1e3e18f6",
   "metadata": {},
   "outputs": [
    {
     "name": "stdout",
     "output_type": "stream",
     "text": [
      "3.1415926535 \n",
      "  8979323846 \n",
      "  2643383279\n",
      "\n"
     ]
    }
   ],
   "source": [
    "#Reading an entire file\n",
    "with open(\"pi_digits.txt\") as f:\n",
    "    contents=f.read()\n",
    "    print(contents)"
   ]
  },
  {
   "cell_type": "code",
   "execution_count": 3,
   "id": "3fc67877",
   "metadata": {},
   "outputs": [
    {
     "name": "stdout",
     "output_type": "stream",
     "text": [
      "3.1415926535 \n",
      "  8979323846 \n",
      "  2643383279\n"
     ]
    }
   ],
   "source": [
    "with open(\"pi_digits.txt\") as f:\n",
    "    contents=f.read()\n",
    "    print(contents.rstrip())"
   ]
  },
  {
   "cell_type": "code",
   "execution_count": 5,
   "id": "4c68dac4",
   "metadata": {},
   "outputs": [
    {
     "name": "stdout",
     "output_type": "stream",
     "text": [
      "3.1415926535 \n",
      "  8979323846 \n",
      "  2643383279\n"
     ]
    }
   ],
   "source": [
    "with open('chapter_10/pi_digits.txt') as f:\n",
    "    contents=f.read()\n",
    "    print(contents.rstrip())"
   ]
  },
  {
   "cell_type": "code",
   "execution_count": 9,
   "id": "d2025cde",
   "metadata": {},
   "outputs": [
    {
     "name": "stdout",
     "output_type": "stream",
     "text": [
      "3.1415926535 \n",
      "  8979323846 \n",
      "  2643383279\n"
     ]
    }
   ],
   "source": [
    "with open('D:/AI SSUET 2022/Learning material/ehmatthes-pcc_2e-078318e/chapter_10/pi_digits.txt') as f:\n",
    "    contents=f.read()\n",
    "    print(contents.rstrip())"
   ]
  },
  {
   "cell_type": "code",
   "execution_count": 28,
   "id": "1d1a3dd6",
   "metadata": {},
   "outputs": [
    {
     "name": "stdout",
     "output_type": "stream",
     "text": [
      "3.1415926535\n",
      "  8979323846\n",
      "  2643383279\n"
     ]
    }
   ],
   "source": [
    "#Reading line by line\n",
    "filename='pi_digits.txt'\n",
    "with open(filename) as f:\n",
    "    for line in f:\n",
    "        print(line.rstrip())"
   ]
  },
  {
   "cell_type": "code",
   "execution_count": 31,
   "id": "6d8258a8",
   "metadata": {},
   "outputs": [
    {
     "name": "stdout",
     "output_type": "stream",
     "text": [
      "3.1415926535\n",
      "  8979323846\n",
      "  2643383279\n"
     ]
    }
   ],
   "source": [
    "#Making list of lines from a file\n",
    "filename='pi_digits.txt'\n",
    "with open(filename) as f:\n",
    "    contents=f.readlines()\n",
    "for line in contents:\n",
    "    print(line.rstrip())"
   ]
  },
  {
   "cell_type": "code",
   "execution_count": 56,
   "id": "06b3ab0b",
   "metadata": {},
   "outputs": [
    {
     "name": "stdout",
     "output_type": "stream",
     "text": [
      "3.141592653589793238462643383279\n",
      "32\n"
     ]
    }
   ],
   "source": [
    "#Working with file contents\n",
    "filename='pi_digits.txt'\n",
    "with open(filename) as f:\n",
    "    lines=f.readlines()\n",
    "pi_string=''\n",
    "for line in lines:\n",
    "    pi_string+=line.strip()\n",
    "print(pi_string)\n",
    "print(len(pi_string))"
   ]
  },
  {
   "cell_type": "code",
   "execution_count": 61,
   "id": "c36ff320",
   "metadata": {},
   "outputs": [
    {
     "name": "stdout",
     "output_type": "stream",
     "text": [
      "3.14159265358979323846264338327950288419716939937510....\n",
      "1000002\n"
     ]
    }
   ],
   "source": [
    "filename='pi_million_digits.txt'\n",
    "with open (filename) as f:\n",
    "    lines=f.readlines()\n",
    "pi_string=''\n",
    "for line in lines:\n",
    "    pi_string+=line.strip()\n",
    "print(f\"\"\"{pi_string[:52]}....\"\"\")\n",
    "print(len(pi_string))"
   ]
  },
  {
   "cell_type": "code",
   "execution_count": 63,
   "id": "2314864c",
   "metadata": {},
   "outputs": [
    {
     "name": "stdout",
     "output_type": "stream",
     "text": [
      "Enter your birthday, in the form mmddyy: 113082\n",
      "Your birthday appears in the first million digits of pi\n"
     ]
    }
   ],
   "source": [
    "#is your birthday Contained in Pi?\n",
    "filename='pi_million_digits.txt'\n",
    "with open (filename) as f:\n",
    "    lines=f.readlines()\n",
    "pi_string=''\n",
    "for line in lines:\n",
    "    pi_string+=line.strip()\n",
    "birthday=input(\"Enter your birthday, in the form mmddyy: \")\n",
    "if birthday in pi_string:\n",
    "    print(\"Your birthday appears in the first million digits of pi\")\n",
    "else:\n",
    "    print(\"Your birthday does not appear in the first milliondigits of pi\")"
   ]
  },
  {
   "cell_type": "code",
   "execution_count": null,
   "id": "a20a94cf",
   "metadata": {},
   "outputs": [],
   "source": []
  }
 ],
 "metadata": {
  "kernelspec": {
   "display_name": "Python 3 (ipykernel)",
   "language": "python",
   "name": "python3"
  },
  "language_info": {
   "codemirror_mode": {
    "name": "ipython",
    "version": 3
   },
   "file_extension": ".py",
   "mimetype": "text/x-python",
   "name": "python",
   "nbconvert_exporter": "python",
   "pygments_lexer": "ipython3",
   "version": "3.9.12"
  }
 },
 "nbformat": 4,
 "nbformat_minor": 5
}
