{
 "cells": [
  {
   "cell_type": "code",
   "execution_count": 39,
   "id": "a752af86",
   "metadata": {},
   "outputs": [],
   "source": [
    "class Restaurant:\n",
    "    def __init__(self, restaurant_name, cuissine_type):\n",
    "        self.restaurant_name=restaurant_name\n",
    "        self.cuissine_type=cuissine_type\n",
    "    def describe_restaurant(self):\n",
    "        print(f\"Restaurant name is {self.restaurant_name}\")\n",
    "        print(f\"Cussine Type is {self.cuissine_type}\")\n",
    "    def open_restaurant(self,open):\n",
    "        self.open=open\n",
    "        print(f\"Restaurant is {self.open}\")\n",
    "    "
   ]
  },
  {
   "cell_type": "code",
   "execution_count": 23,
   "id": "5efaefe5",
   "metadata": {},
   "outputs": [],
   "source": [
    "restaurant_1=Restaurant(\"Aala Rahi\", \"Terragon Stake\")"
   ]
  },
  {
   "cell_type": "code",
   "execution_count": 10,
   "id": "5b9f6a24",
   "metadata": {},
   "outputs": [
    {
     "name": "stdout",
     "output_type": "stream",
     "text": [
      "Restaurant name is Aala Rahi\n",
      "Cussine Type is Terragon Stake\n"
     ]
    }
   ],
   "source": [
    "restaurant_1.describe_restaurant()"
   ]
  },
  {
   "cell_type": "code",
   "execution_count": 40,
   "id": "a99ed793",
   "metadata": {},
   "outputs": [],
   "source": [
    "restaurant_2=Restaurant(\"Kolachi\", \"Thai Food\")"
   ]
  },
  {
   "cell_type": "code",
   "execution_count": 42,
   "id": "e6b0a67c",
   "metadata": {},
   "outputs": [
    {
     "name": "stdout",
     "output_type": "stream",
     "text": [
      "Restaurant name is Kolachi\n",
      "Cussine Type is Thai Food\n",
      "Restaurant is OPEN 24/7\n"
     ]
    }
   ],
   "source": [
    "restaurant_2.describe_restaurant()\n",
    "restaurant_2.open_restaurant(\"OPEN 24/7\")"
   ]
  },
  {
   "cell_type": "code",
   "execution_count": 16,
   "id": "05d4efc7",
   "metadata": {},
   "outputs": [
    {
     "name": "stdout",
     "output_type": "stream",
     "text": [
      "Restaurant name is Aala Rahi\n",
      "Cussine Type is Terragon Stake\n"
     ]
    }
   ],
   "source": [
    "restaurant_1.describe_restaurant()"
   ]
  },
  {
   "cell_type": "code",
   "execution_count": null,
   "id": "c1a78083",
   "metadata": {},
   "outputs": [],
   "source": []
  }
 ],
 "metadata": {
  "kernelspec": {
   "display_name": "Python 3 (ipykernel)",
   "language": "python",
   "name": "python3"
  },
  "language_info": {
   "codemirror_mode": {
    "name": "ipython",
    "version": 3
   },
   "file_extension": ".py",
   "mimetype": "text/x-python",
   "name": "python",
   "nbconvert_exporter": "python",
   "pygments_lexer": "ipython3",
   "version": "3.9.12"
  }
 },
 "nbformat": 4,
 "nbformat_minor": 5
}
