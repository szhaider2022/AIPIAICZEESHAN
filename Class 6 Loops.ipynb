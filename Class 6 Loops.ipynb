{
 "cells": [
  {
   "cell_type": "markdown",
   "id": "ed116644",
   "metadata": {},
   "source": [
    "#There are two loops in Python i.e For and While"
   ]
  },
  {
   "cell_type": "code",
   "execution_count": 2,
   "id": "d5271773",
   "metadata": {},
   "outputs": [],
   "source": [
    "students = [\"Asad\",\"Ali\",\"Daad\",\"Hassan\"]"
   ]
  },
  {
   "cell_type": "code",
   "execution_count": 3,
   "id": "31c6a8ca",
   "metadata": {},
   "outputs": [
    {
     "name": "stdout",
     "output_type": "stream",
     "text": [
      "asad\n",
      "ali\n",
      "daad\n",
      "hassan\n"
     ]
    }
   ],
   "source": [
    "for student in students:\n",
    "    print(student.lower())"
   ]
  },
  {
   "cell_type": "code",
   "execution_count": 4,
   "id": "8f0eca4f",
   "metadata": {},
   "outputs": [
    {
     "name": "stdout",
     "output_type": "stream",
     "text": [
      "P\n",
      "a\n",
      "k\n",
      "i\n",
      "s\n",
      "t\n",
      "a\n",
      "n\n"
     ]
    }
   ],
   "source": [
    "for char in \"Pakistan\":\n",
    "    print(char)\n"
   ]
  },
  {
   "cell_type": "code",
   "execution_count": 1,
   "id": "68143568",
   "metadata": {},
   "outputs": [
    {
     "ename": "TypeError",
     "evalue": "'int' object is not iterable",
     "output_type": "error",
     "traceback": [
      "\u001b[1;31m---------------------------------------------------------------------------\u001b[0m",
      "\u001b[1;31mTypeError\u001b[0m                                 Traceback (most recent call last)",
      "Input \u001b[1;32mIn [1]\u001b[0m, in \u001b[0;36m<cell line: 1>\u001b[1;34m()\u001b[0m\n\u001b[1;32m----> 1\u001b[0m \u001b[38;5;28;01mfor\u001b[39;00m num \u001b[38;5;129;01min\u001b[39;00m \u001b[38;5;241m5001\u001b[39m:\n\u001b[0;32m      2\u001b[0m     \u001b[38;5;28mprint\u001b[39m(num)\n",
      "\u001b[1;31mTypeError\u001b[0m: 'int' object is not iterable"
     ]
    }
   ],
   "source": [
    "for num in 5001:\n",
    "    print(num)"
   ]
  },
  {
   "cell_type": "code",
   "execution_count": 8,
   "id": "f4580a06",
   "metadata": {},
   "outputs": [
    {
     "name": "stdout",
     "output_type": "stream",
     "text": [
      "0 Hello\n",
      "1 Hello\n",
      "2 Hello\n",
      "3 Hello\n",
      "4 Hello\n",
      "5 Hello\n",
      "6 Hello\n",
      "7 Hello\n",
      "8 Hello\n",
      "9 Hello\n"
     ]
    }
   ],
   "source": [
    "for a in range(10): # range is a generator to generate numbers\n",
    "    print(a, \"Hello\")\n",
    "    "
   ]
  },
  {
   "cell_type": "code",
   "execution_count": 9,
   "id": "e43f2cfa",
   "metadata": {},
   "outputs": [
    {
     "name": "stdout",
     "output_type": "stream",
     "text": [
      "1 Python\n",
      "2 Python\n",
      "3 Python\n",
      "4 Python\n"
     ]
    }
   ],
   "source": [
    "for a in range(1,5):\n",
    "    print(a,\"Python\")"
   ]
  },
  {
   "cell_type": "code",
   "execution_count": 11,
   "id": "b7c47b45",
   "metadata": {},
   "outputs": [
    {
     "name": "stdout",
     "output_type": "stream",
     "text": [
      "0 Hello\n",
      "2 Hello\n",
      "4 Hello\n",
      "6 Hello\n",
      "8 Hello\n",
      "10 Hello\n",
      "12 Hello\n",
      "14 Hello\n",
      "16 Hello\n",
      "18 Hello\n"
     ]
    }
   ],
   "source": [
    "for a in range(0,20,2):  #define step in loop (starting, ending-1, step value)\n",
    "    print(a,\"Hello\")"
   ]
  },
  {
   "cell_type": "code",
   "execution_count": 12,
   "id": "730c2bb2",
   "metadata": {},
   "outputs": [
    {
     "name": "stdout",
     "output_type": "stream",
     "text": [
      "10\n",
      "9\n",
      "8\n",
      "7\n",
      "6\n",
      "5\n",
      "4\n",
      "3\n",
      "2\n",
      "1\n"
     ]
    }
   ],
   "source": [
    "for a in range(10,0,-1):  # For decreament\n",
    "    print(a)"
   ]
  },
  {
   "cell_type": "markdown",
   "id": "b20a38b6",
   "metadata": {},
   "source": [
    "# Break, Continue"
   ]
  },
  {
   "cell_type": "code",
   "execution_count": 13,
   "id": "d5806f8b",
   "metadata": {},
   "outputs": [
    {
     "name": "stdout",
     "output_type": "stream",
     "text": [
      "asad\n"
     ]
    }
   ],
   "source": [
    "for student in students: #To terminate loop\n",
    "    if student.endswith(\"i\"):\n",
    "        break\n",
    "    print(student.lower())"
   ]
  },
  {
   "cell_type": "code",
   "execution_count": 16,
   "id": "f86aff81",
   "metadata": {},
   "outputs": [
    {
     "name": "stdout",
     "output_type": "stream",
     "text": [
      "1 Python ABC\n",
      "2 Python ABC\n"
     ]
    }
   ],
   "source": [
    "for a in range(1,5):\n",
    "    if a==3:\n",
    "        break\n",
    "    print(a,\"Python\", \"ABC\")"
   ]
  },
  {
   "cell_type": "code",
   "execution_count": 15,
   "id": "17c34d38",
   "metadata": {},
   "outputs": [
    {
     "name": "stdout",
     "output_type": "stream",
     "text": [
      "1\n",
      "2\n",
      "3\n",
      "4\n",
      "5\n",
      "6\n",
      "8\n",
      "9\n"
     ]
    }
   ],
   "source": [
    "for a in range(0,10):\n",
    "    if a%7==0:\n",
    "        continue\n",
    "    print(a)"
   ]
  },
  {
   "cell_type": "markdown",
   "id": "97ea0d11",
   "metadata": {},
   "source": [
    "Write a program that takes 5 values from user and classify them as odds and even in odds and evens list"
   ]
  },
  {
   "cell_type": "code",
   "execution_count": 38,
   "id": "d9fb0615",
   "metadata": {},
   "outputs": [
    {
     "name": "stdout",
     "output_type": "stream",
     "text": [
      "Enter a number: 1\n",
      "Enter a number: 2\n",
      "Enter a number: 3\n",
      "Enter a number: 4\n",
      "Enter a number: 5\n",
      "[2, 4] [1, 3, 5]\n"
     ]
    }
   ],
   "source": [
    "odds=[]\n",
    "evens=[]\n",
    "for a in range(5):\n",
    "    a=int(input(\"Enter a number: \"))\n",
    "    if a%2==0:\n",
    "        evens.append(a)\n",
    "        \n",
    "    else:\n",
    "        odds.append(a)\n",
    "        \n",
    "print(evens,odds)\n",
    "    "
   ]
  },
  {
   "cell_type": "markdown",
   "id": "96120728",
   "metadata": {},
   "source": [
    "## List Comprehension (to write a program in a single line)"
   ]
  },
  {
   "cell_type": "code",
   "execution_count": 39,
   "id": "5f041a10",
   "metadata": {},
   "outputs": [
    {
     "name": "stdout",
     "output_type": "stream",
     "text": [
      "[1, 3, 5, 7, 9, 11, 13, 15, 17, 19]\n"
     ]
    }
   ],
   "source": [
    "#i need a list of odd numbers between 1 to 20\n",
    "odd=[]\n",
    "for num in range(1,21):\n",
    "    if num%2!=0:\n",
    "        odd.append(num)\n",
    "print(odd)"
   ]
  },
  {
   "cell_type": "code",
   "execution_count": 40,
   "id": "37f43890",
   "metadata": {},
   "outputs": [
    {
     "data": {
      "text/plain": [
       "[1, 3, 5, 7, 9, 11, 13, 15, 17, 19]"
      ]
     },
     "execution_count": 40,
     "metadata": {},
     "output_type": "execute_result"
    }
   ],
   "source": [
    "[a for a in range(1,21) if a%2!=0]"
   ]
  },
  {
   "cell_type": "code",
   "execution_count": 41,
   "id": "06f5e96b",
   "metadata": {},
   "outputs": [
    {
     "data": {
      "text/plain": [
       "[2, 4, 6, 8, 10, 12, 14, 16, 18, 20]"
      ]
     },
     "execution_count": 41,
     "metadata": {},
     "output_type": "execute_result"
    }
   ],
   "source": [
    "[a for a in range(1,21) if a%2==0]"
   ]
  },
  {
   "cell_type": "code",
   "execution_count": 49,
   "id": "3ffbbf64",
   "metadata": {},
   "outputs": [
    {
     "data": {
      "text/plain": [
       "[None,\n",
       " None,\n",
       " None,\n",
       " None,\n",
       " None,\n",
       " None,\n",
       " None,\n",
       " None,\n",
       " None,\n",
       " None,\n",
       " None,\n",
       " None,\n",
       " None,\n",
       " None,\n",
       " None,\n",
       " None,\n",
       " None,\n",
       " None,\n",
       " None,\n",
       " None]"
      ]
     },
     "execution_count": 49,
     "metadata": {},
     "output_type": "execute_result"
    }
   ],
   "source": [
    "evens=[]; odds=[]\n",
    "[evens.append(a) if a%2==0  else odds.append(a) for a in range(1,21) ]\n"
   ]
  },
  {
   "cell_type": "code",
   "execution_count": 2,
   "id": "19a93c8f",
   "metadata": {},
   "outputs": [
    {
     "name": "stdout",
     "output_type": "stream",
     "text": [
      "Enter a number: 1,2,3,4\n",
      "[2, 4] [1, 3]\n"
     ]
    }
   ],
   "source": [
    "#Take input in a single line\n",
    "odds=[]\n",
    "evens=[]\n",
    "a=input(\"Enter a number: \").split(\",\")\n",
    "\n",
    "if len(a[0])==0:\n",
    "    print(\"Please enter number\")\n",
    "else:\n",
    "    \n",
    "    for num in a:\n",
    "        \n",
    "        num=int(num)\n",
    "    \n",
    "        if num%2==0:\n",
    "            evens.append(num)\n",
    "        \n",
    "        else:\n",
    "            odds.append(num)\n",
    "        \n",
    "    print(evens,odds)"
   ]
  },
  {
   "cell_type": "markdown",
   "id": "6ace6026",
   "metadata": {},
   "source": [
    "# While Looop"
   ]
  },
  {
   "cell_type": "code",
   "execution_count": 63,
   "id": "5032d904",
   "metadata": {},
   "outputs": [
    {
     "name": "stdout",
     "output_type": "stream",
     "text": [
      "0\n",
      "1\n",
      "2\n",
      "3\n",
      "4\n",
      "5\n",
      "6\n",
      "7\n",
      "8\n",
      "9\n"
     ]
    }
   ],
   "source": [
    "a=0\n",
    "while a<10:\n",
    "    print(a)\n",
    "    a+=1"
   ]
  },
  {
   "cell_type": "code",
   "execution_count": 64,
   "id": "36f36aaa",
   "metadata": {},
   "outputs": [
    {
     "name": "stdout",
     "output_type": "stream",
     "text": [
      "10\n",
      "9\n",
      "8\n",
      "7\n",
      "6\n",
      "5\n",
      "4\n",
      "3\n",
      "2\n",
      "1\n"
     ]
    }
   ],
   "source": [
    "a=10  #Reverse\n",
    "while a>0:\n",
    "    print(a)\n",
    "    a-=1"
   ]
  },
  {
   "cell_type": "code",
   "execution_count": 69,
   "id": "a2ac2a17",
   "metadata": {},
   "outputs": [
    {
     "name": "stdout",
     "output_type": "stream",
     "text": [
      "Enter a guest name [or press q to exit]bdfd\n",
      "Enter a guest name [or press q to exit]dsADSF\n",
      "Enter a guest name [or press q to exit]DFB\n",
      "Enter a guest name [or press q to exit]Q\n"
     ]
    },
    {
     "data": {
      "text/plain": [
       "['bdfd', 'dsadsf', 'dfb']"
      ]
     },
     "execution_count": 69,
     "metadata": {},
     "output_type": "execute_result"
    }
   ],
   "source": [
    "guest_list=[]\n",
    "flag=True\n",
    "while flag:\n",
    "    guest_name=input(\"Enter a guest name [or press q to exit]\").lower()\n",
    "    if guest_name==\"q\":\n",
    "        flag=False\n",
    "    else:\n",
    "        guest_list.append(guest_name)\n",
    "guest_list\n",
    "        "
   ]
  },
  {
   "cell_type": "markdown",
   "id": "fa0b7e36",
   "metadata": {},
   "source": [
    "# Dictionary"
   ]
  },
  {
   "cell_type": "code",
   "execution_count": 71,
   "id": "1ff8b149",
   "metadata": {},
   "outputs": [],
   "source": [
    "alist=[]\n",
    "atuple={}\n",
    "aset={2}\n",
    "adict={\"name\":\"SSUET\"} # In dictionary there a two things 1) KEY 2) VALUE\n"
   ]
  },
  {
   "cell_type": "code",
   "execution_count": 74,
   "id": "818ac07b",
   "metadata": {},
   "outputs": [
    {
     "data": {
      "text/plain": [
       "(set, dict)"
      ]
     },
     "execution_count": 74,
     "metadata": {},
     "output_type": "execute_result"
    }
   ],
   "source": [
    "type(aset), type(adict)"
   ]
  },
  {
   "cell_type": "code",
   "execution_count": 77,
   "id": "63ee6bcc",
   "metadata": {},
   "outputs": [],
   "source": [
    "student1={\"roll\":123, \"name\":\"Fahad\", \"course\":\"AI\", \"status\":True}"
   ]
  },
  {
   "cell_type": "code",
   "execution_count": 82,
   "id": "bc3b760c",
   "metadata": {},
   "outputs": [
    {
     "data": {
      "text/plain": [
       "'Fahad'"
      ]
     },
     "execution_count": 82,
     "metadata": {},
     "output_type": "execute_result"
    }
   ],
   "source": [
    "student1[\"name\"]"
   ]
  },
  {
   "cell_type": "code",
   "execution_count": 81,
   "id": "b117e315",
   "metadata": {},
   "outputs": [
    {
     "name": "stdout",
     "output_type": "stream",
     "text": [
      "roll\n",
      "name\n",
      "course\n",
      "status\n"
     ]
    }
   ],
   "source": [
    "for a in student1:\n",
    "    print(a)"
   ]
  },
  {
   "cell_type": "code",
   "execution_count": 83,
   "id": "fe30a2a7",
   "metadata": {},
   "outputs": [
    {
     "name": "stdout",
     "output_type": "stream",
     "text": [
      "123\n",
      "Fahad\n",
      "AI\n",
      "True\n"
     ]
    }
   ],
   "source": [
    "for key in student1:\n",
    "    print(student1[key])"
   ]
  },
  {
   "cell_type": "code",
   "execution_count": 86,
   "id": "ecb2a077",
   "metadata": {},
   "outputs": [
    {
     "name": "stdout",
     "output_type": "stream",
     "text": [
      "roll\n",
      "name\n",
      "course\n",
      "status\n"
     ]
    }
   ],
   "source": [
    "for key in student1.keys():\n",
    "    print(key)"
   ]
  },
  {
   "cell_type": "code",
   "execution_count": 87,
   "id": "35c9ee7b",
   "metadata": {},
   "outputs": [
    {
     "name": "stdout",
     "output_type": "stream",
     "text": [
      "123\n",
      "Fahad\n",
      "AI\n",
      "True\n"
     ]
    }
   ],
   "source": [
    "for value in student1.values(): \n",
    "    print(value)"
   ]
  },
  {
   "cell_type": "code",
   "execution_count": 88,
   "id": "c8b494e5",
   "metadata": {},
   "outputs": [
    {
     "name": "stdout",
     "output_type": "stream",
     "text": [
      "roll 123\n",
      "name Fahad\n",
      "course AI\n",
      "status True\n"
     ]
    }
   ],
   "source": [
    "for key, values in student1.items(): #item return both key and value\n",
    "    print(key,values)"
   ]
  },
  {
   "cell_type": "markdown",
   "id": "d3f39a83",
   "metadata": {},
   "source": [
    "# Packing or unpacking"
   ]
  },
  {
   "cell_type": "code",
   "execution_count": 98,
   "id": "b9b6a7c7",
   "metadata": {},
   "outputs": [],
   "source": [
    "alist=[22,33]\n",
    "#pakiing"
   ]
  },
  {
   "cell_type": "code",
   "execution_count": 100,
   "id": "47da1053",
   "metadata": {},
   "outputs": [],
   "source": [
    "asad,fahad=alist\n",
    "#unpack"
   ]
  },
  {
   "cell_type": "code",
   "execution_count": 101,
   "id": "ac6ceb90",
   "metadata": {},
   "outputs": [
    {
     "data": {
      "text/plain": [
       "22"
      ]
     },
     "execution_count": 101,
     "metadata": {},
     "output_type": "execute_result"
    }
   ],
   "source": [
    "asad"
   ]
  },
  {
   "cell_type": "code",
   "execution_count": 102,
   "id": "45e5a7d5",
   "metadata": {},
   "outputs": [],
   "source": [
    "a=100, 200"
   ]
  },
  {
   "cell_type": "code",
   "execution_count": 103,
   "id": "2c825fe4",
   "metadata": {},
   "outputs": [
    {
     "data": {
      "text/plain": [
       "(100, 200)"
      ]
     },
     "execution_count": 103,
     "metadata": {},
     "output_type": "execute_result"
    }
   ],
   "source": [
    "a"
   ]
  },
  {
   "cell_type": "code",
   "execution_count": 104,
   "id": "81c280a8",
   "metadata": {},
   "outputs": [],
   "source": [
    "q,w=a"
   ]
  },
  {
   "cell_type": "code",
   "execution_count": 105,
   "id": "50d78467",
   "metadata": {},
   "outputs": [
    {
     "data": {
      "text/plain": [
       "100"
      ]
     },
     "execution_count": 105,
     "metadata": {},
     "output_type": "execute_result"
    }
   ],
   "source": [
    "q"
   ]
  },
  {
   "cell_type": "code",
   "execution_count": 106,
   "id": "ce401fd4",
   "metadata": {},
   "outputs": [
    {
     "data": {
      "text/plain": [
       "200"
      ]
     },
     "execution_count": 106,
     "metadata": {},
     "output_type": "execute_result"
    }
   ],
   "source": [
    "w"
   ]
  },
  {
   "cell_type": "code",
   "execution_count": 107,
   "id": "4d8feb6b",
   "metadata": {},
   "outputs": [
    {
     "name": "stdout",
     "output_type": "stream",
     "text": [
      "('roll', 123)\n",
      "('name', 'Fahad')\n",
      "('course', 'AI')\n",
      "('status', True)\n"
     ]
    }
   ],
   "source": [
    "for key in student1.items(): #tuple\n",
    "    print(key)"
   ]
  },
  {
   "cell_type": "code",
   "execution_count": 1,
   "id": "e2070346",
   "metadata": {},
   "outputs": [
    {
     "data": {
      "text/plain": [
       "30"
      ]
     },
     "execution_count": 1,
     "metadata": {},
     "output_type": "execute_result"
    }
   ],
   "source": [
    "list=[2,4,6,8,10]\n",
    "sum(list)"
   ]
  },
  {
   "cell_type": "code",
   "execution_count": 9,
   "id": "de7a4de4",
   "metadata": {},
   "outputs": [
    {
     "name": "stdout",
     "output_type": "stream",
     "text": [
      "Enter a number: 123\n",
      "6\n"
     ]
    }
   ],
   "source": [
    "num_list=[]\n",
    "product=1\n",
    "num=input(\"Enter a number: \")#.split(\",\")\n",
    "for digits in num:\n",
    "   # num_list=int(num) #.append[num]\n",
    "    num_list.append(int(digits))\n",
    "    product =product * (int(digits))\n",
    "print(product)\n",
    "#sum(num_list)\n"
   ]
  },
  {
   "cell_type": "code",
   "execution_count": null,
   "id": "aa3f6412",
   "metadata": {},
   "outputs": [],
   "source": []
  },
  {
   "cell_type": "code",
   "execution_count": null,
   "id": "3e7be51c",
   "metadata": {},
   "outputs": [],
   "source": [
    "123\n"
   ]
  }
 ],
 "metadata": {
  "kernelspec": {
   "display_name": "Python 3 (ipykernel)",
   "language": "python",
   "name": "python3"
  },
  "language_info": {
   "codemirror_mode": {
    "name": "ipython",
    "version": 3
   },
   "file_extension": ".py",
   "mimetype": "text/x-python",
   "name": "python",
   "nbconvert_exporter": "python",
   "pygments_lexer": "ipython3",
   "version": "3.9.12"
  }
 },
 "nbformat": 4,
 "nbformat_minor": 5
}
