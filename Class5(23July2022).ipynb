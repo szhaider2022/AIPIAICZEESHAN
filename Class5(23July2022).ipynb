{
 "cells": [
  {
   "cell_type": "raw",
   "id": "fa657ff8",
   "metadata": {},
   "source": [
    "- List\n",
    "- Set\n",
    "- Tuple\n",
    "- Dictionary"
   ]
  },
  {
   "cell_type": "code",
   "execution_count": 2,
   "id": "ad958f61",
   "metadata": {},
   "outputs": [],
   "source": [
    "students = []\n",
    "#List declare and initialize"
   ]
  },
  {
   "cell_type": "code",
   "execution_count": 3,
   "id": "dae617db",
   "metadata": {},
   "outputs": [
    {
     "data": {
      "text/plain": [
       "list"
      ]
     },
     "execution_count": 3,
     "metadata": {},
     "output_type": "execute_result"
    }
   ],
   "source": [
    "type(students)"
   ]
  },
  {
   "cell_type": "code",
   "execution_count": 4,
   "id": "7ccc7a4b",
   "metadata": {},
   "outputs": [
    {
     "data": {
      "text/plain": [
       "0"
      ]
     },
     "execution_count": 4,
     "metadata": {},
     "output_type": "execute_result"
    }
   ],
   "source": [
    "len(students)"
   ]
  },
  {
   "cell_type": "code",
   "execution_count": 7,
   "id": "7c5a5c2c",
   "metadata": {},
   "outputs": [],
   "source": [
    "#           -4       -3      -2       -1 \n",
    "students = [\"Asad\",\"Ali\",\"Daad\",\"Hassan\"]\n",
    "#             0      1     2       3"
   ]
  },
  {
   "cell_type": "code",
   "execution_count": 8,
   "id": "63d1a814",
   "metadata": {},
   "outputs": [
    {
     "data": {
      "text/plain": [
       "['Asad', 'Ali', 'Daad', 'Hassan']"
      ]
     },
     "execution_count": 8,
     "metadata": {},
     "output_type": "execute_result"
    }
   ],
   "source": [
    "students"
   ]
  },
  {
   "cell_type": "code",
   "execution_count": 9,
   "id": "ef367bbd",
   "metadata": {},
   "outputs": [
    {
     "data": {
      "text/plain": [
       "'Daad'"
      ]
     },
     "execution_count": 9,
     "metadata": {},
     "output_type": "execute_result"
    }
   ],
   "source": [
    "students[2]"
   ]
  },
  {
   "cell_type": "code",
   "execution_count": 10,
   "id": "b62a15e7",
   "metadata": {},
   "outputs": [
    {
     "data": {
      "text/plain": [
       "'Daad'"
      ]
     },
     "execution_count": 10,
     "metadata": {},
     "output_type": "execute_result"
    }
   ],
   "source": [
    "students[-2]"
   ]
  },
  {
   "cell_type": "code",
   "execution_count": 11,
   "id": "55150baf",
   "metadata": {},
   "outputs": [],
   "source": [
    "miscList = [\"Nasir\", 12, True, 23.7, [11,22,33]]"
   ]
  },
  {
   "cell_type": "code",
   "execution_count": 12,
   "id": "ac0fc060",
   "metadata": {},
   "outputs": [
    {
     "data": {
      "text/plain": [
       "23.7"
      ]
     },
     "execution_count": 12,
     "metadata": {},
     "output_type": "execute_result"
    }
   ],
   "source": [
    "miscList[3]"
   ]
  },
  {
   "cell_type": "code",
   "execution_count": 13,
   "id": "f912a906",
   "metadata": {},
   "outputs": [
    {
     "data": {
      "text/plain": [
       "[11, 22, 33]"
      ]
     },
     "execution_count": 13,
     "metadata": {},
     "output_type": "execute_result"
    }
   ],
   "source": [
    "miscList[-1]"
   ]
  },
  {
   "cell_type": "code",
   "execution_count": 14,
   "id": "659f2dc4",
   "metadata": {},
   "outputs": [
    {
     "data": {
      "text/plain": [
       "33"
      ]
     },
     "execution_count": 14,
     "metadata": {},
     "output_type": "execute_result"
    }
   ],
   "source": [
    "miscList[-1][2]"
   ]
  },
  {
   "cell_type": "code",
   "execution_count": 15,
   "id": "b5710db4",
   "metadata": {},
   "outputs": [],
   "source": [
    "miscList[2]=False"
   ]
  },
  {
   "cell_type": "code",
   "execution_count": 16,
   "id": "63aebfbd",
   "metadata": {},
   "outputs": [
    {
     "data": {
      "text/plain": [
       "['Nasir', 12, False, 23.7, [11, 22, 33]]"
      ]
     },
     "execution_count": 16,
     "metadata": {},
     "output_type": "execute_result"
    }
   ],
   "source": [
    "miscList"
   ]
  },
  {
   "cell_type": "code",
   "execution_count": 17,
   "id": "a434f3d2",
   "metadata": {},
   "outputs": [],
   "source": [
    "# Repalce / Update\n",
    "miscList[2]=\"Hello\""
   ]
  },
  {
   "cell_type": "code",
   "execution_count": 18,
   "id": "dca64753",
   "metadata": {},
   "outputs": [
    {
     "data": {
      "text/plain": [
       "['Nasir', 12, 'Hello', 23.7, [11, 22, 33]]"
      ]
     },
     "execution_count": 18,
     "metadata": {},
     "output_type": "execute_result"
    }
   ],
   "source": [
    "miscList"
   ]
  },
  {
   "cell_type": "code",
   "execution_count": 20,
   "id": "bfe286f0",
   "metadata": {},
   "outputs": [
    {
     "data": {
      "text/plain": [
       "['Nasir', 12, 23.7, [11, 22, 33]]"
      ]
     },
     "execution_count": 20,
     "metadata": {},
     "output_type": "execute_result"
    }
   ],
   "source": [
    "miscList"
   ]
  },
  {
   "cell_type": "markdown",
   "id": "2a54fe3a",
   "metadata": {},
   "source": [
    "# Inserting in a list\n",
    " -append()\n",
    " -insert()"
   ]
  },
  {
   "cell_type": "code",
   "execution_count": 21,
   "id": "624ab7a5",
   "metadata": {},
   "outputs": [],
   "source": [
    "miscList.append(1000)"
   ]
  },
  {
   "cell_type": "code",
   "execution_count": 22,
   "id": "cf29a974",
   "metadata": {},
   "outputs": [
    {
     "data": {
      "text/plain": [
       "['Nasir', 12, 23.7, [11, 22, 33], 1000]"
      ]
     },
     "execution_count": 22,
     "metadata": {},
     "output_type": "execute_result"
    }
   ],
   "source": [
    "miscList"
   ]
  },
  {
   "cell_type": "code",
   "execution_count": 23,
   "id": "2ac44540",
   "metadata": {},
   "outputs": [
    {
     "data": {
      "text/plain": [
       "['Asad', 'Ali', 'Daad', 'Hassan']"
      ]
     },
     "execution_count": 23,
     "metadata": {},
     "output_type": "execute_result"
    }
   ],
   "source": [
    "students"
   ]
  },
  {
   "cell_type": "code",
   "execution_count": 24,
   "id": "6d332023",
   "metadata": {},
   "outputs": [],
   "source": [
    "students.insert(2,\"Rehan\")"
   ]
  },
  {
   "cell_type": "code",
   "execution_count": 25,
   "id": "9cfba7d0",
   "metadata": {},
   "outputs": [
    {
     "data": {
      "text/plain": [
       "['Asad', 'Ali', 'Rehan', 'Daad', 'Hassan']"
      ]
     },
     "execution_count": 25,
     "metadata": {},
     "output_type": "execute_result"
    }
   ],
   "source": [
    "students"
   ]
  },
  {
   "cell_type": "code",
   "execution_count": 26,
   "id": "322b8a4d",
   "metadata": {},
   "outputs": [
    {
     "data": {
      "text/plain": [
       "['Asad', 'Ali', ['Rehan', 'Farhan', 'Rayyan'], 'Rehan', 'Daad', 'Hassan']"
      ]
     },
     "execution_count": 26,
     "metadata": {},
     "output_type": "execute_result"
    }
   ],
   "source": [
    "students.insert(2,[\"Rehan\",\"Farhan\",\"Rayyan\"])\n",
    "students"
   ]
  },
  {
   "cell_type": "markdown",
   "id": "e1508a12",
   "metadata": {},
   "source": [
    "### Delete or remove members from list\n",
    " - del\n",
    " - remove\n",
    " - pop"
   ]
  },
  {
   "cell_type": "code",
   "execution_count": 27,
   "id": "d06ca788",
   "metadata": {},
   "outputs": [
    {
     "data": {
      "text/plain": [
       "['Nasir', 12, [11, 22, 33], 1000]"
      ]
     },
     "execution_count": 27,
     "metadata": {},
     "output_type": "execute_result"
    }
   ],
   "source": [
    "del miscList[2]\n",
    "miscList"
   ]
  },
  {
   "cell_type": "code",
   "execution_count": 28,
   "id": "566f3cf7",
   "metadata": {},
   "outputs": [
    {
     "data": {
      "text/plain": [
       "['Asad', 'Ali', ['Rehan', 'Farhan', 'Rayyan'], 'Rehan', 'Daad', 'Hassan']"
      ]
     },
     "execution_count": 28,
     "metadata": {},
     "output_type": "execute_result"
    }
   ],
   "source": [
    "students"
   ]
  },
  {
   "cell_type": "code",
   "execution_count": 29,
   "id": "032de392",
   "metadata": {},
   "outputs": [
    {
     "data": {
      "text/plain": [
       "['Asad', 'Ali', ['Rehan', 'Farhan', 'Rayyan'], 'Daad', 'Hassan']"
      ]
     },
     "execution_count": 29,
     "metadata": {},
     "output_type": "execute_result"
    }
   ],
   "source": [
    "students.remove('Rehan')\n",
    "students"
   ]
  },
  {
   "cell_type": "code",
   "execution_count": 34,
   "id": "a08d9cc4",
   "metadata": {},
   "outputs": [
    {
     "data": {
      "text/plain": [
       "['Asad', 'Ali', 'Ali', ['Rehan', 'Farhan', 'Rayyan'], 'Daad', 'Hassan']"
      ]
     },
     "execution_count": 34,
     "metadata": {},
     "output_type": "execute_result"
    }
   ],
   "source": [
    "students.insert(1,'Ali')\n",
    "students"
   ]
  },
  {
   "cell_type": "code",
   "execution_count": 35,
   "id": "eccae07f",
   "metadata": {},
   "outputs": [
    {
     "data": {
      "text/plain": [
       "['Asad', 'Ali', ['Rehan', 'Farhan', 'Rayyan'], 'Daad', 'Hassan']"
      ]
     },
     "execution_count": 35,
     "metadata": {},
     "output_type": "execute_result"
    }
   ],
   "source": [
    "students.remove(\"Ali\")\n",
    "students"
   ]
  },
  {
   "cell_type": "code",
   "execution_count": 36,
   "id": "392f4cbf",
   "metadata": {},
   "outputs": [],
   "source": [
    "students.insert(10,\"Python\")"
   ]
  },
  {
   "cell_type": "code",
   "execution_count": 37,
   "id": "84286cbe",
   "metadata": {},
   "outputs": [
    {
     "data": {
      "text/plain": [
       "['Asad', 'Ali', ['Rehan', 'Farhan', 'Rayyan'], 'Daad', 'Hassan', 'Python']"
      ]
     },
     "execution_count": 37,
     "metadata": {},
     "output_type": "execute_result"
    }
   ],
   "source": [
    "students"
   ]
  },
  {
   "cell_type": "code",
   "execution_count": 38,
   "id": "10368821",
   "metadata": {},
   "outputs": [
    {
     "ename": "IndexError",
     "evalue": "list index out of range",
     "output_type": "error",
     "traceback": [
      "\u001b[1;31m---------------------------------------\u001b[0m",
      "\u001b[1;31mIndexError\u001b[0mTraceback (most recent call last)",
      "\u001b[1;32m<ipython-input-38-f2ca5824570d>\u001b[0m in \u001b[0;36m<module>\u001b[1;34m\u001b[0m\n\u001b[1;32m----> 1\u001b[1;33m \u001b[0mstudents\u001b[0m\u001b[1;33m[\u001b[0m\u001b[1;36m10\u001b[0m\u001b[1;33m]\u001b[0m\u001b[1;33m\u001b[0m\u001b[1;33m\u001b[0m\u001b[0m\n\u001b[0m",
      "\u001b[1;31mIndexError\u001b[0m: list index out of range"
     ]
    }
   ],
   "source": [
    "students[10]"
   ]
  },
  {
   "cell_type": "code",
   "execution_count": 39,
   "id": "d00ab81c",
   "metadata": {},
   "outputs": [
    {
     "data": {
      "text/plain": [
       "'Python'"
      ]
     },
     "execution_count": 39,
     "metadata": {},
     "output_type": "execute_result"
    }
   ],
   "source": [
    "students[5]"
   ]
  },
  {
   "cell_type": "code",
   "execution_count": 42,
   "id": "1e6cea5b",
   "metadata": {},
   "outputs": [
    {
     "data": {
      "text/plain": [
       "5"
      ]
     },
     "execution_count": 42,
     "metadata": {},
     "output_type": "execute_result"
    }
   ],
   "source": [
    "students.index(\"Python\")"
   ]
  },
  {
   "cell_type": "code",
   "execution_count": 43,
   "id": "089d4285",
   "metadata": {},
   "outputs": [],
   "source": [
    "students.remove(\"Python\")"
   ]
  },
  {
   "cell_type": "code",
   "execution_count": 44,
   "id": "54a7dc96",
   "metadata": {},
   "outputs": [
    {
     "data": {
      "text/plain": [
       "['Asad', 'Ali', ['Rehan', 'Farhan', 'Rayyan'], 'Daad', 'Hassan']"
      ]
     },
     "execution_count": 44,
     "metadata": {},
     "output_type": "execute_result"
    }
   ],
   "source": [
    "students"
   ]
  },
  {
   "cell_type": "code",
   "execution_count": 45,
   "id": "361113d6",
   "metadata": {},
   "outputs": [
    {
     "data": {
      "text/plain": [
       "'Hassan'"
      ]
     },
     "execution_count": 45,
     "metadata": {},
     "output_type": "execute_result"
    }
   ],
   "source": [
    "students.pop()"
   ]
  },
  {
   "cell_type": "code",
   "execution_count": 46,
   "id": "e78e96c2",
   "metadata": {},
   "outputs": [
    {
     "name": "stdout",
     "output_type": "stream",
     "text": [
      "['Asad', 'Ali', ['Rehan', 'Farhan', 'Rayyan']]\n"
     ]
    },
    {
     "data": {
      "text/plain": [
       "'Daad'"
      ]
     },
     "execution_count": 46,
     "metadata": {},
     "output_type": "execute_result"
    }
   ],
   "source": [
    "popped_val = students.pop()\n",
    "print(students)\n",
    "popped_val"
   ]
  },
  {
   "cell_type": "code",
   "execution_count": 47,
   "id": "bb53c65c",
   "metadata": {},
   "outputs": [],
   "source": [
    "miscList.clear()"
   ]
  },
  {
   "cell_type": "code",
   "execution_count": 48,
   "id": "cab4be5e",
   "metadata": {},
   "outputs": [
    {
     "data": {
      "text/plain": [
       "[]"
      ]
     },
     "execution_count": 48,
     "metadata": {},
     "output_type": "execute_result"
    }
   ],
   "source": [
    "miscList"
   ]
  },
  {
   "cell_type": "markdown",
   "id": "8b1242de",
   "metadata": {},
   "source": [
    "### Copying a list\n",
    "  - copy()\n",
    "  \n",
    "  - [:]\n",
    "  \n",
    "  - lista=listb"
   ]
  },
  {
   "cell_type": "code",
   "execution_count": 49,
   "id": "26d0fa32",
   "metadata": {},
   "outputs": [
    {
     "data": {
      "text/plain": [
       "['Asad', 'Ali', ['Rehan', 'Farhan', 'Rayyan']]"
      ]
     },
     "execution_count": 49,
     "metadata": {},
     "output_type": "execute_result"
    }
   ],
   "source": [
    "students"
   ]
  },
  {
   "cell_type": "code",
   "execution_count": 50,
   "id": "61565a0a",
   "metadata": {},
   "outputs": [],
   "source": [
    "newst = students"
   ]
  },
  {
   "cell_type": "code",
   "execution_count": 51,
   "id": "09bdd9d8",
   "metadata": {},
   "outputs": [
    {
     "data": {
      "text/plain": [
       "['Asad', 'Ali', ['Rehan', 'Farhan', 'Rayyan']]"
      ]
     },
     "execution_count": 51,
     "metadata": {},
     "output_type": "execute_result"
    }
   ],
   "source": [
    "newst"
   ]
  },
  {
   "cell_type": "code",
   "execution_count": 52,
   "id": "1b8eb696",
   "metadata": {},
   "outputs": [],
   "source": [
    "students.remove(\"Asad\")"
   ]
  },
  {
   "cell_type": "code",
   "execution_count": 53,
   "id": "1bc3ce59",
   "metadata": {},
   "outputs": [
    {
     "data": {
      "text/plain": [
       "['Ali', ['Rehan', 'Farhan', 'Rayyan']]"
      ]
     },
     "execution_count": 53,
     "metadata": {},
     "output_type": "execute_result"
    }
   ],
   "source": [
    "newst"
   ]
  },
  {
   "cell_type": "code",
   "execution_count": 54,
   "id": "c1583efa",
   "metadata": {},
   "outputs": [],
   "source": [
    "newst.append(\"Asad\")"
   ]
  },
  {
   "cell_type": "code",
   "execution_count": 55,
   "id": "3a13756c",
   "metadata": {},
   "outputs": [
    {
     "data": {
      "text/plain": [
       "['Ali', ['Rehan', 'Farhan', 'Rayyan'], 'Asad']"
      ]
     },
     "execution_count": 55,
     "metadata": {},
     "output_type": "execute_result"
    }
   ],
   "source": [
    "students"
   ]
  },
  {
   "cell_type": "code",
   "execution_count": 56,
   "id": "c2a8eeff",
   "metadata": {},
   "outputs": [],
   "source": [
    "mySt = students.copy()"
   ]
  },
  {
   "cell_type": "code",
   "execution_count": 57,
   "id": "3150f38e",
   "metadata": {},
   "outputs": [
    {
     "data": {
      "text/plain": [
       "['Ali', ['Rehan', 'Farhan', 'Rayyan'], 'Asad']"
      ]
     },
     "execution_count": 57,
     "metadata": {},
     "output_type": "execute_result"
    }
   ],
   "source": [
    "mySt"
   ]
  },
  {
   "cell_type": "code",
   "execution_count": 58,
   "id": "eabb3393",
   "metadata": {},
   "outputs": [],
   "source": [
    "students.remove(\"Asad\")"
   ]
  },
  {
   "cell_type": "code",
   "execution_count": 59,
   "id": "f7064f92",
   "metadata": {},
   "outputs": [
    {
     "data": {
      "text/plain": [
       "['Ali', ['Rehan', 'Farhan', 'Rayyan'], 'Asad']"
      ]
     },
     "execution_count": 59,
     "metadata": {},
     "output_type": "execute_result"
    }
   ],
   "source": [
    "mySt"
   ]
  },
  {
   "cell_type": "code",
   "execution_count": 60,
   "id": "cfbc3879",
   "metadata": {},
   "outputs": [],
   "source": [
    "yourSt = students[:]"
   ]
  },
  {
   "cell_type": "code",
   "execution_count": 61,
   "id": "752a3255",
   "metadata": {},
   "outputs": [
    {
     "data": {
      "text/plain": [
       "1"
      ]
     },
     "execution_count": 61,
     "metadata": {},
     "output_type": "execute_result"
    }
   ],
   "source": [
    "students.count(\"Ali\")"
   ]
  },
  {
   "cell_type": "code",
   "execution_count": 62,
   "id": "40c21ae9",
   "metadata": {},
   "outputs": [
    {
     "data": {
      "text/plain": [
       "0"
      ]
     },
     "execution_count": 62,
     "metadata": {},
     "output_type": "execute_result"
    }
   ],
   "source": [
    "students.count('ali')"
   ]
  },
  {
   "cell_type": "code",
   "execution_count": 4,
   "id": "38a1337e",
   "metadata": {},
   "outputs": [],
   "source": [
    "name = \"Shahzad Ahsan\""
   ]
  },
  {
   "cell_type": "code",
   "execution_count": 5,
   "id": "d164c22a",
   "metadata": {},
   "outputs": [
    {
     "data": {
      "text/plain": [
       "'h'"
      ]
     },
     "execution_count": 5,
     "metadata": {},
     "output_type": "execute_result"
    }
   ],
   "source": [
    "name[3]"
   ]
  },
  {
   "cell_type": "code",
   "execution_count": 8,
   "id": "73f3ad1e",
   "metadata": {},
   "outputs": [
    {
     "data": {
      "text/plain": [
       "3"
      ]
     },
     "execution_count": 8,
     "metadata": {},
     "output_type": "execute_result"
    }
   ],
   "source": [
    "name.count('h')"
   ]
  },
  {
   "cell_type": "code",
   "execution_count": 66,
   "id": "68f5d952",
   "metadata": {},
   "outputs": [
    {
     "data": {
      "text/plain": [
       "['Ali', ['Rehan', 'Farhan', 'Rayyan'], 'hello', 'python']"
      ]
     },
     "execution_count": 66,
     "metadata": {},
     "output_type": "execute_result"
    }
   ],
   "source": [
    "students + [\"hello\", \"python\"]"
   ]
  },
  {
   "cell_type": "code",
   "execution_count": 67,
   "id": "547db6a0",
   "metadata": {},
   "outputs": [],
   "source": [
    "students.extend(['a',\"b\",'c'])"
   ]
  },
  {
   "cell_type": "code",
   "execution_count": 68,
   "id": "4f3a6f06",
   "metadata": {},
   "outputs": [
    {
     "data": {
      "text/plain": [
       "['Ali', ['Rehan', 'Farhan', 'Rayyan'], 'a', 'b', 'c']"
      ]
     },
     "execution_count": 68,
     "metadata": {},
     "output_type": "execute_result"
    }
   ],
   "source": [
    "students"
   ]
  },
  {
   "cell_type": "code",
   "execution_count": 69,
   "id": "467ae78d",
   "metadata": {},
   "outputs": [],
   "source": [
    "students.append(['a',\"b\",'c'])"
   ]
  },
  {
   "cell_type": "code",
   "execution_count": 70,
   "id": "6f5534d3",
   "metadata": {},
   "outputs": [
    {
     "data": {
      "text/plain": [
       "['Ali', ['Rehan', 'Farhan', 'Rayyan'], 'a', 'b', 'c', ['a', 'b', 'c']]"
      ]
     },
     "execution_count": 70,
     "metadata": {},
     "output_type": "execute_result"
    }
   ],
   "source": [
    "students"
   ]
  },
  {
   "cell_type": "code",
   "execution_count": 71,
   "id": "0aca9d3e",
   "metadata": {},
   "outputs": [],
   "source": [
    "students.extend(\"Pakistan\")"
   ]
  },
  {
   "cell_type": "code",
   "execution_count": 72,
   "id": "e0ce6960",
   "metadata": {},
   "outputs": [
    {
     "data": {
      "text/plain": [
       "['Ali',\n",
       " ['Rehan', 'Farhan', 'Rayyan'],\n",
       " 'a',\n",
       " 'b',\n",
       " 'c',\n",
       " ['a', 'b', 'c'],\n",
       " 'P',\n",
       " 'a',\n",
       " 'k',\n",
       " 'i',\n",
       " 's',\n",
       " 't',\n",
       " 'a',\n",
       " 'n']"
      ]
     },
     "execution_count": 72,
     "metadata": {},
     "output_type": "execute_result"
    }
   ],
   "source": [
    "students"
   ]
  },
  {
   "cell_type": "code",
   "execution_count": 73,
   "id": "8708918f",
   "metadata": {},
   "outputs": [
    {
     "ename": "TypeError",
     "evalue": "'int' object is not iterable",
     "output_type": "error",
     "traceback": [
      "\u001b[1;31m---------------------------------------\u001b[0m",
      "\u001b[1;31mTypeError\u001b[0mTraceback (most recent call last)",
      "\u001b[1;32m<ipython-input-73-7a704489d610>\u001b[0m in \u001b[0;36m<module>\u001b[1;34m\u001b[0m\n\u001b[1;32m----> 1\u001b[1;33m \u001b[0mstudents\u001b[0m\u001b[1;33m.\u001b[0m\u001b[0mextend\u001b[0m\u001b[1;33m(\u001b[0m\u001b[1;36m55555\u001b[0m\u001b[1;33m)\u001b[0m\u001b[1;33m\u001b[0m\u001b[1;33m\u001b[0m\u001b[0m\n\u001b[0m",
      "\u001b[1;31mTypeError\u001b[0m: 'int' object is not iterable"
     ]
    }
   ],
   "source": [
    "students.extend(55555)"
   ]
  },
  {
   "cell_type": "code",
   "execution_count": 74,
   "id": "84ce1680",
   "metadata": {},
   "outputs": [
    {
     "data": {
      "text/plain": [
       "['Ali',\n",
       " ['Rehan', 'Farhan', 'Rayyan'],\n",
       " 'a',\n",
       " 'b',\n",
       " 'c',\n",
       " ['a', 'b', 'c'],\n",
       " 'P',\n",
       " 'a',\n",
       " 'k',\n",
       " 'i',\n",
       " 's',\n",
       " 't',\n",
       " 'a',\n",
       " 'n',\n",
       " '5',\n",
       " '5',\n",
       " '5',\n",
       " '5',\n",
       " '5']"
      ]
     },
     "execution_count": 74,
     "metadata": {},
     "output_type": "execute_result"
    }
   ],
   "source": [
    "students.extend('55555')\n",
    "students"
   ]
  },
  {
   "cell_type": "markdown",
   "id": "ae29ee59",
   "metadata": {},
   "source": [
    "extend() again "
   ]
  },
  {
   "cell_type": "code",
   "execution_count": 75,
   "id": "f63fe672",
   "metadata": {},
   "outputs": [],
   "source": [
    "a  = [22,33]"
   ]
  },
  {
   "cell_type": "code",
   "execution_count": 76,
   "id": "f1cf4a0b",
   "metadata": {},
   "outputs": [
    {
     "data": {
      "text/plain": [
       "[22, 33, [44, 55]]"
      ]
     },
     "execution_count": 76,
     "metadata": {},
     "output_type": "execute_result"
    }
   ],
   "source": [
    "a.append([44,55])\n",
    "a"
   ]
  },
  {
   "cell_type": "code",
   "execution_count": 77,
   "id": "b225ae10",
   "metadata": {},
   "outputs": [],
   "source": [
    "z = ['a','g','y']"
   ]
  },
  {
   "cell_type": "code",
   "execution_count": 78,
   "id": "ee78f1ea",
   "metadata": {},
   "outputs": [],
   "source": [
    "a.extend(z)"
   ]
  },
  {
   "cell_type": "code",
   "execution_count": 79,
   "id": "fe9f3dff",
   "metadata": {},
   "outputs": [
    {
     "data": {
      "text/plain": [
       "[22, 33, [44, 55], 'a', 'g', 'y']"
      ]
     },
     "execution_count": 79,
     "metadata": {},
     "output_type": "execute_result"
    }
   ],
   "source": [
    "a"
   ]
  },
  {
   "cell_type": "markdown",
   "id": "54ab566c",
   "metadata": {},
   "source": [
    "# Slicing"
   ]
  },
  {
   "cell_type": "code",
   "execution_count": 95,
   "id": "262d1630",
   "metadata": {},
   "outputs": [
    {
     "data": {
      "text/plain": [
       "33"
      ]
     },
     "execution_count": 95,
     "metadata": {},
     "output_type": "execute_result"
    }
   ],
   "source": [
    "nums = [11,22,33,44,55,66,77,88,99,100]\n",
    "nums[2]"
   ]
  },
  {
   "cell_type": "code",
   "execution_count": 96,
   "id": "cd0a9c55",
   "metadata": {},
   "outputs": [],
   "source": [
    "nums2 = nums[:]"
   ]
  },
  {
   "cell_type": "code",
   "execution_count": 97,
   "id": "dcd3feda",
   "metadata": {},
   "outputs": [
    {
     "data": {
      "text/plain": [
       "[11, 22, 33, 44, 55, 66, 77, 88, 99, 100]"
      ]
     },
     "execution_count": 97,
     "metadata": {},
     "output_type": "execute_result"
    }
   ],
   "source": [
    "nums2"
   ]
  },
  {
   "cell_type": "code",
   "execution_count": 98,
   "id": "84626514",
   "metadata": {},
   "outputs": [],
   "source": [
    "nums3 = nums[2:5]"
   ]
  },
  {
   "cell_type": "code",
   "execution_count": 99,
   "id": "e6fc2c50",
   "metadata": {},
   "outputs": [
    {
     "data": {
      "text/plain": [
       "[33, 44, 55]"
      ]
     },
     "execution_count": 99,
     "metadata": {},
     "output_type": "execute_result"
    }
   ],
   "source": [
    "nums3"
   ]
  },
  {
   "cell_type": "code",
   "execution_count": 100,
   "id": "18fb4e60",
   "metadata": {},
   "outputs": [
    {
     "data": {
      "text/plain": [
       "([11, 22, 33, 44, 55, 66], [11, 22, 33, 44, 55, 66])"
      ]
     },
     "execution_count": 100,
     "metadata": {},
     "output_type": "execute_result"
    }
   ],
   "source": [
    "nums[0:6],nums[:6]"
   ]
  },
  {
   "cell_type": "code",
   "execution_count": 103,
   "id": "f3ffe87d",
   "metadata": {},
   "outputs": [
    {
     "data": {
      "text/plain": [
       "([77, 88, 99], [77, 88, 99, 100], [77, 88, 99])"
      ]
     },
     "execution_count": 103,
     "metadata": {},
     "output_type": "execute_result"
    }
   ],
   "source": [
    "nums[6:9],nums[6:],nums[6:-1]"
   ]
  },
  {
   "cell_type": "code",
   "execution_count": 92,
   "id": "5f9ba5aa",
   "metadata": {},
   "outputs": [
    {
     "data": {
      "text/plain": [
       "[77, 88, 99]"
      ]
     },
     "execution_count": 92,
     "metadata": {},
     "output_type": "execute_result"
    }
   ],
   "source": [
    "nums[6:300]"
   ]
  },
  {
   "cell_type": "code",
   "execution_count": 94,
   "id": "1d0e6488",
   "metadata": {},
   "outputs": [
    {
     "data": {
      "text/plain": [
       "([77, 88, 99], [77, 88], [77, 88, 99])"
      ]
     },
     "execution_count": 94,
     "metadata": {},
     "output_type": "execute_result"
    }
   ],
   "source": [
    "nums[6:9],nums[6:-1],nums[6:]"
   ]
  },
  {
   "cell_type": "code",
   "execution_count": 104,
   "id": "a20e0db7",
   "metadata": {},
   "outputs": [
    {
     "data": {
      "text/plain": [
       "[11, 22, 33, 44, 55, 66, 77, 88, 99, 100]"
      ]
     },
     "execution_count": 104,
     "metadata": {},
     "output_type": "execute_result"
    }
   ],
   "source": [
    "nums"
   ]
  },
  {
   "cell_type": "code",
   "execution_count": 105,
   "id": "6a9347c1",
   "metadata": {},
   "outputs": [
    {
     "data": {
      "text/plain": [
       "[]"
      ]
     },
     "execution_count": 105,
     "metadata": {},
     "output_type": "execute_result"
    }
   ],
   "source": [
    "nums[-1:-6]"
   ]
  },
  {
   "cell_type": "code",
   "execution_count": 107,
   "id": "ca9e60c1",
   "metadata": {},
   "outputs": [
    {
     "data": {
      "text/plain": [
       "[11, 33, 55, 77]"
      ]
     },
     "execution_count": 107,
     "metadata": {},
     "output_type": "execute_result"
    }
   ],
   "source": [
    "nums[0:8:2]"
   ]
  },
  {
   "cell_type": "code",
   "execution_count": 108,
   "id": "473b7bf2",
   "metadata": {},
   "outputs": [
    {
     "data": {
      "text/plain": [
       "[11, 44, 77, 100]"
      ]
     },
     "execution_count": 108,
     "metadata": {},
     "output_type": "execute_result"
    }
   ],
   "source": [
    "nums[::3]"
   ]
  },
  {
   "cell_type": "code",
   "execution_count": 109,
   "id": "8c5c803e",
   "metadata": {},
   "outputs": [
    {
     "data": {
      "text/plain": [
       "[11, 22, 33, 44, 55, 66, 77, 88, 99, 100]"
      ]
     },
     "execution_count": 109,
     "metadata": {},
     "output_type": "execute_result"
    }
   ],
   "source": [
    "nums"
   ]
  },
  {
   "cell_type": "code",
   "execution_count": 110,
   "id": "0b7b14a7",
   "metadata": {},
   "outputs": [
    {
     "data": {
      "text/plain": [
       "[100, 99, 88, 77, 66, 55, 44, 33, 22, 11]"
      ]
     },
     "execution_count": 110,
     "metadata": {},
     "output_type": "execute_result"
    }
   ],
   "source": [
    "nums[::-1]"
   ]
  },
  {
   "cell_type": "code",
   "execution_count": 111,
   "id": "5f6f33df",
   "metadata": {},
   "outputs": [
    {
     "data": {
      "text/plain": [
       "[77, 66, 55]"
      ]
     },
     "execution_count": 111,
     "metadata": {},
     "output_type": "execute_result"
    }
   ],
   "source": [
    "nums[6:3:-1]"
   ]
  },
  {
   "cell_type": "code",
   "execution_count": 115,
   "id": "08cf0150",
   "metadata": {},
   "outputs": [
    {
     "data": {
      "text/plain": [
       "[]"
      ]
     },
     "execution_count": 115,
     "metadata": {},
     "output_type": "execute_result"
    }
   ],
   "source": [
    "nums\n",
    "nums[-4:7:-1]"
   ]
  },
  {
   "cell_type": "code",
   "execution_count": 116,
   "id": "206d25a9",
   "metadata": {},
   "outputs": [
    {
     "data": {
      "text/plain": [
       "[77, 88, 99]"
      ]
     },
     "execution_count": 116,
     "metadata": {},
     "output_type": "execute_result"
    }
   ],
   "source": [
    "nums[-4:-1]"
   ]
  },
  {
   "cell_type": "code",
   "execution_count": 117,
   "id": "e974ca79",
   "metadata": {},
   "outputs": [
    {
     "data": {
      "text/plain": [
       "[11, 22, 33, 44, 55, 66, 77, 88, 99, 100]"
      ]
     },
     "execution_count": 117,
     "metadata": {},
     "output_type": "execute_result"
    }
   ],
   "source": [
    "nums"
   ]
  },
  {
   "cell_type": "code",
   "execution_count": 118,
   "id": "391fbc0d",
   "metadata": {},
   "outputs": [
    {
     "data": {
      "text/plain": [
       "[100, 11]"
      ]
     },
     "execution_count": 118,
     "metadata": {},
     "output_type": "execute_result"
    }
   ],
   "source": [
    "nums[-1::-9]"
   ]
  },
  {
   "cell_type": "code",
   "execution_count": 119,
   "id": "6f670cf3",
   "metadata": {},
   "outputs": [
    {
     "data": {
      "text/plain": [
       "[11, 100]"
      ]
     },
     "execution_count": 119,
     "metadata": {},
     "output_type": "execute_result"
    }
   ],
   "source": [
    "nums[::9]"
   ]
  },
  {
   "cell_type": "markdown",
   "id": "46b6b08e",
   "metadata": {},
   "source": [
    "# tuple"
   ]
  },
  {
   "cell_type": "code",
   "execution_count": 124,
   "id": "a69ee78a",
   "metadata": {},
   "outputs": [],
   "source": [
    "atup = (2,3,4,5,6,87)\n",
    "#immutable"
   ]
  },
  {
   "cell_type": "code",
   "execution_count": 125,
   "id": "a765ffe1",
   "metadata": {},
   "outputs": [
    {
     "data": {
      "text/plain": [
       "tuple"
      ]
     },
     "execution_count": 125,
     "metadata": {},
     "output_type": "execute_result"
    }
   ],
   "source": [
    "type(atup)"
   ]
  },
  {
   "cell_type": "code",
   "execution_count": 126,
   "id": "c0da2c85",
   "metadata": {},
   "outputs": [
    {
     "data": {
      "text/plain": [
       "2"
      ]
     },
     "execution_count": 126,
     "metadata": {},
     "output_type": "execute_result"
    }
   ],
   "source": [
    "atup[0]"
   ]
  },
  {
   "cell_type": "code",
   "execution_count": 127,
   "id": "0fb2f872",
   "metadata": {},
   "outputs": [
    {
     "data": {
      "text/plain": [
       "(5, 6, 87)"
      ]
     },
     "execution_count": 127,
     "metadata": {},
     "output_type": "execute_result"
    }
   ],
   "source": [
    "atup[3:6]"
   ]
  },
  {
   "cell_type": "code",
   "execution_count": 130,
   "id": "87501dbe",
   "metadata": {},
   "outputs": [],
   "source": [
    "aset={1,2,3,4,5,3,4,5}"
   ]
  },
  {
   "cell_type": "code",
   "execution_count": 131,
   "id": "408fd364",
   "metadata": {},
   "outputs": [
    {
     "data": {
      "text/plain": [
       "set"
      ]
     },
     "execution_count": 131,
     "metadata": {},
     "output_type": "execute_result"
    }
   ],
   "source": [
    "type(aset)"
   ]
  },
  {
   "cell_type": "code",
   "execution_count": 132,
   "id": "6fbca561",
   "metadata": {},
   "outputs": [
    {
     "data": {
      "text/plain": [
       "{1, 2, 3, 4, 5}"
      ]
     },
     "execution_count": 132,
     "metadata": {},
     "output_type": "execute_result"
    }
   ],
   "source": [
    "aset"
   ]
  },
  {
   "cell_type": "code",
   "execution_count": 133,
   "id": "553cd28a",
   "metadata": {},
   "outputs": [],
   "source": [
    "alist = [1,2,3,4,5,62,3,4,5]"
   ]
  },
  {
   "cell_type": "code",
   "execution_count": 135,
   "id": "1e2b9bb8",
   "metadata": {},
   "outputs": [
    {
     "data": {
      "text/plain": [
       "[1, 2, 3, 4, 5, 62]"
      ]
     },
     "execution_count": 135,
     "metadata": {},
     "output_type": "execute_result"
    }
   ],
   "source": [
    "list(set(alist))"
   ]
  },
  {
   "cell_type": "code",
   "execution_count": null,
   "id": "c4904df6",
   "metadata": {},
   "outputs": [],
   "source": []
  }
 ],
 "metadata": {
  "kernelspec": {
   "display_name": "Python 3 (ipykernel)",
   "language": "python",
   "name": "python3"
  },
  "language_info": {
   "codemirror_mode": {
    "name": "ipython",
    "version": 3
   },
   "file_extension": ".py",
   "mimetype": "text/x-python",
   "name": "python",
   "nbconvert_exporter": "python",
   "pygments_lexer": "ipython3",
   "version": "3.9.12"
  }
 },
 "nbformat": 4,
 "nbformat_minor": 5
}
