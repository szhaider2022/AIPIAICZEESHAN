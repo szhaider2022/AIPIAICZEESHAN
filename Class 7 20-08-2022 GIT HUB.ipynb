{
 "cells": [
  {
   "cell_type": "markdown",
   "id": "2fd328c0",
   "metadata": {},
   "source": [
    "# Functions"
   ]
  },
  {
   "cell_type": "code",
   "execution_count": 4,
   "id": "b2b45ea8",
   "metadata": {},
   "outputs": [],
   "source": [
    "#definition\n",
    "#call\n",
    "#reult\n",
    "\n",
    "def nameUpper(): #parameterless function\n",
    "    \"\"\"this function takes input and return\n",
    "    the string in upper case\"\"\"\n",
    "    username=input(\"Please tell me your good name! \")\n",
    "    username=username.upper()\n",
    "    print(username)\n",
    "    \n",
    "    "
   ]
  },
  {
   "cell_type": "code",
   "execution_count": 3,
   "id": "70c616a5",
   "metadata": {},
   "outputs": [
    {
     "name": "stdout",
     "output_type": "stream",
     "text": [
      "Please tell me your good name! asdf\n",
      "ASDF\n"
     ]
    }
   ],
   "source": [
    "nameUpper()"
   ]
  },
  {
   "cell_type": "code",
   "execution_count": 13,
   "id": "e688a09f",
   "metadata": {},
   "outputs": [],
   "source": [
    "def calcSquare():\n",
    "    a=10\n",
    "    sq=a*a\n",
    "    print(sq)"
   ]
  },
  {
   "cell_type": "code",
   "execution_count": 14,
   "id": "bf3c7b90",
   "metadata": {},
   "outputs": [
    {
     "name": "stdout",
     "output_type": "stream",
     "text": [
      "100\n"
     ]
    }
   ],
   "source": [
    "calcSquare()"
   ]
  },
  {
   "cell_type": "code",
   "execution_count": 32,
   "id": "0015d8e8",
   "metadata": {},
   "outputs": [],
   "source": [
    "#Two things in functions\n",
    "#1. Parameter 2. Arguments\n",
    "# Any function which does not takes input value then it is called parameter less function\n",
    "\n",
    "#num=10 # global, it may be call outside or inside the function\n",
    "def calcSquare(val):  #parameter\n",
    "    global sq  #exclusively need to set variable as global\n",
    "    sq=val**2  ##sq is a local variable can't call outside function\n",
    "    "
   ]
  },
  {
   "cell_type": "code",
   "execution_count": 24,
   "id": "f3f1b013",
   "metadata": {},
   "outputs": [
    {
     "name": "stdout",
     "output_type": "stream",
     "text": [
      "10000\n"
     ]
    }
   ],
   "source": [
    "calcSquare(100)\n",
    "print(sq)"
   ]
  },
  {
   "cell_type": "code",
   "execution_count": 21,
   "id": "6d9e2edb",
   "metadata": {},
   "outputs": [
    {
     "ename": "SyntaxError",
     "evalue": "invalid syntax (1351822279.py, line 2)",
     "output_type": "error",
     "traceback": [
      "\u001b[1;36m  Input \u001b[1;32mIn [21]\u001b[1;36m\u001b[0m\n\u001b[1;33m    Global define in function\u001b[0m\n\u001b[1;37m           ^\u001b[0m\n\u001b[1;31mSyntaxError\u001b[0m\u001b[1;31m:\u001b[0m invalid syntax\n"
     ]
    }
   ],
   "source": [
    "#two types of method to call variable in function outside a function\n",
    "Global define in function"
   ]
  },
  {
   "cell_type": "code",
   "execution_count": 38,
   "id": "b925f0ab",
   "metadata": {},
   "outputs": [],
   "source": [
    "def calcSquare(val):  #parameter\n",
    "    sq=val**2\n",
    "    return sq\n",
    "\n",
    "\n"
   ]
  },
  {
   "cell_type": "code",
   "execution_count": 39,
   "id": "ffaa85e1",
   "metadata": {},
   "outputs": [],
   "source": [
    "result=calcSquare(3)"
   ]
  },
  {
   "cell_type": "code",
   "execution_count": 40,
   "id": "09045516",
   "metadata": {},
   "outputs": [
    {
     "name": "stdout",
     "output_type": "stream",
     "text": [
      "9\n"
     ]
    }
   ],
   "source": [
    "print (result)"
   ]
  },
  {
   "cell_type": "code",
   "execution_count": 41,
   "id": "711ed496",
   "metadata": {},
   "outputs": [],
   "source": [
    "def areaoftriangle(l,h):\n",
    "    area=l*h*0.5\n",
    "    return area, l, h"
   ]
  },
  {
   "cell_type": "code",
   "execution_count": 43,
   "id": "fcc76088",
   "metadata": {},
   "outputs": [],
   "source": [
    "area,l,h=areaoftriangle(5,6)"
   ]
  },
  {
   "cell_type": "code",
   "execution_count": 47,
   "id": "d8255cb0",
   "metadata": {},
   "outputs": [
    {
     "name": "stdout",
     "output_type": "stream",
     "text": [
      "THE area of Triangle with lenght 5 and height 6 is 15.0 sq.m\n"
     ]
    }
   ],
   "source": [
    "print(f\"THE area of Triangle with lenght {l} and height {h} is {area} sq.m\")"
   ]
  },
  {
   "cell_type": "code",
   "execution_count": 97,
   "id": "c008aa57",
   "metadata": {},
   "outputs": [],
   "source": [
    "#import math\n",
    "def calcAverage(a,b,c):\n",
    "    average=round(((a+b+c)/3),2)\n",
    "    return average, a, b, c"
   ]
  },
  {
   "cell_type": "code",
   "execution_count": 98,
   "id": "0bad6f6c",
   "metadata": {},
   "outputs": [],
   "source": [
    "average,a,b,c=calcAverage(2,6,5)"
   ]
  },
  {
   "cell_type": "code",
   "execution_count": 99,
   "id": "7e7fc88c",
   "metadata": {},
   "outputs": [
    {
     "name": "stdout",
     "output_type": "stream",
     "text": [
      "The average of 1st numbers 2, 2nd Number 6 and 3rd number 5 is 4.33\n"
     ]
    }
   ],
   "source": [
    "print(f\"The average of 1st numbers {a}, 2nd Number {b} and 3rd number {c} is {average}\")"
   ]
  },
  {
   "cell_type": "code",
   "execution_count": 100,
   "id": "0bb86057",
   "metadata": {},
   "outputs": [
    {
     "data": {
      "text/plain": [
       "(103.5, 9, 23)"
      ]
     },
     "execution_count": 100,
     "metadata": {},
     "output_type": "execute_result"
    }
   ],
   "source": [
    "##Positional Argument\n",
    "##keyworld arugment\n",
    "\n",
    "areaoftriangle(h=23,l=9) #keword argument"
   ]
  },
  {
   "cell_type": "markdown",
   "id": "abe775c5",
   "metadata": {},
   "source": [
    "# Defualt Parameter"
   ]
  },
  {
   "cell_type": "code",
   "execution_count": 101,
   "id": "32e32bdd",
   "metadata": {},
   "outputs": [
    {
     "name": "stdout",
     "output_type": "stream",
     "text": [
      "Pakistan\n"
     ]
    }
   ],
   "source": [
    "print(\"Pakistan\")"
   ]
  },
  {
   "cell_type": "code",
   "execution_count": 106,
   "id": "3931c00f",
   "metadata": {},
   "outputs": [],
   "source": [
    "def salaryCalculator(basic,allowances, perBonus=0)  ##Defualt parameter must be define in last argument:\n",
    "    gross=basic+allowances+perBonus\n",
    "    return gross"
   ]
  },
  {
   "cell_type": "code",
   "execution_count": 108,
   "id": "02c64cc8",
   "metadata": {},
   "outputs": [
    {
     "data": {
      "text/plain": [
       "62000"
      ]
     },
     "execution_count": 108,
     "metadata": {},
     "output_type": "execute_result"
    }
   ],
   "source": [
    "salaryCalculator(50000,12000)"
   ]
  },
  {
   "cell_type": "code",
   "execution_count": null,
   "id": "083e8d24",
   "metadata": {},
   "outputs": [],
   "source": []
  },
  {
   "cell_type": "code",
   "execution_count": null,
   "id": "ee1c248f",
   "metadata": {},
   "outputs": [],
   "source": []
  }
 ],
 "metadata": {
  "kernelspec": {
   "display_name": "Python 3 (ipykernel)",
   "language": "python",
   "name": "python3"
  },
  "language_info": {
   "codemirror_mode": {
    "name": "ipython",
    "version": 3
   },
   "file_extension": ".py",
   "mimetype": "text/x-python",
   "name": "python",
   "nbconvert_exporter": "python",
   "pygments_lexer": "ipython3",
   "version": "3.9.12"
  }
 },
 "nbformat": 4,
 "nbformat_minor": 5
}
