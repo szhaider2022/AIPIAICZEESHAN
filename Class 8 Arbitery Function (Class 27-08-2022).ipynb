{
 "cells": [
  {
   "cell_type": "markdown",
   "id": "e16baf58",
   "metadata": {},
   "source": [
    "# Function Continue..."
   ]
  },
  {
   "cell_type": "markdown",
   "id": "cac1c1e7",
   "metadata": {},
   "source": [
    "# arbitrary number of arguments"
   ]
  },
  {
   "cell_type": "code",
   "execution_count": 2,
   "id": "a4748944",
   "metadata": {},
   "outputs": [],
   "source": [
    "def afunction(values):\n",
    "    print(values)\n",
    "    "
   ]
  },
  {
   "cell_type": "code",
   "execution_count": 3,
   "id": "161b9e9f",
   "metadata": {},
   "outputs": [
    {
     "name": "stdout",
     "output_type": "stream",
     "text": [
      "hello\n"
     ]
    }
   ],
   "source": [
    "afunction(\"hello\")"
   ]
  },
  {
   "cell_type": "code",
   "execution_count": 7,
   "id": "72474e98",
   "metadata": {},
   "outputs": [],
   "source": [
    "def afunction(*values):  ##  * cash unlimited number of arguments\n",
    "    print(values)\n",
    "    for name in values:\n",
    "        print(f\"Hello {name}\")\n"
   ]
  },
  {
   "cell_type": "code",
   "execution_count": 8,
   "id": "92ead338",
   "metadata": {},
   "outputs": [
    {
     "name": "stdout",
     "output_type": "stream",
     "text": [
      "('hello', 'mr', 'ahmed')\n",
      "Hello hello\n",
      "Hello mr\n",
      "Hello ahmed\n"
     ]
    }
   ],
   "source": [
    "afunction(\"hello\", \"mr\", \"ahmed\")"
   ]
  },
  {
   "cell_type": "code",
   "execution_count": 12,
   "id": "69e4a073",
   "metadata": {},
   "outputs": [],
   "source": [
    "def userdetails(name, id, *others):\n",
    "    print(name)\n",
    "    print(id)\n",
    "    for d in others:\n",
    "        print(d)"
   ]
  },
  {
   "cell_type": "code",
   "execution_count": 13,
   "id": "60a74aaf",
   "metadata": {},
   "outputs": [
    {
     "name": "stdout",
     "output_type": "stream",
     "text": [
      "zeeshan\n",
      "121\n",
      "fname\n",
      "email\n",
      "contact\n"
     ]
    }
   ],
   "source": [
    "userdetails(\"zeeshan\", 121, 'fname', 'email', \"contact\")"
   ]
  },
  {
   "cell_type": "markdown",
   "id": "4e5023dc",
   "metadata": {},
   "source": [
    "# Passing a list as argument"
   ]
  },
  {
   "cell_type": "code",
   "execution_count": 70,
   "id": "d128ae5e",
   "metadata": {},
   "outputs": [],
   "source": [
    "students= [\"Asad\",\"Aqsa\",\"Danish\",\"Fahad\",\"Kiran\"]\n",
    "    "
   ]
  },
  {
   "cell_type": "code",
   "execution_count": 56,
   "id": "2c208137",
   "metadata": {},
   "outputs": [],
   "source": [
    "def promoteStudent(list_of_st):\n",
    "    promotedSt=[]\n",
    "    for st in list_of_st:\n",
    "        promotedSt.append(list_of_st.pop())\n",
    "    print(list_of_st)\n",
    "    print(promotedSt)"
   ]
  },
  {
   "cell_type": "code",
   "execution_count": 57,
   "id": "e60e391e",
   "metadata": {},
   "outputs": [
    {
     "name": "stdout",
     "output_type": "stream",
     "text": [
      "['Asad']\n",
      "['Aqsa']\n"
     ]
    }
   ],
   "source": [
    "promoteStudent(students)"
   ]
  },
  {
   "cell_type": "code",
   "execution_count": 71,
   "id": "7d6db623",
   "metadata": {},
   "outputs": [
    {
     "data": {
      "text/plain": [
       "['Asad', 'Aqsa', 'Danish', 'Fahad', 'Kiran']"
      ]
     },
     "execution_count": 71,
     "metadata": {},
     "output_type": "execute_result"
    }
   ],
   "source": [
    "def promoteStudents(list_of_st):\n",
    "    promotedSt=[]\n",
    "    print(list_of_st)\n",
    "    for a in range(len(list_of_st)):\n",
    "        promotedSt.append(list_of_st.pop())\n",
    "    #print(list_of_st)\n",
    "    print(promotedSt)\n",
    "students"
   ]
  },
  {
   "cell_type": "code",
   "execution_count": 72,
   "id": "b0e5641a",
   "metadata": {},
   "outputs": [
    {
     "name": "stdout",
     "output_type": "stream",
     "text": [
      "['Asad', 'Aqsa', 'Danish', 'Fahad', 'Kiran']\n",
      "['Kiran', 'Fahad', 'Danish', 'Aqsa', 'Asad']\n"
     ]
    }
   ],
   "source": [
    "promoteStudents(students[:])"
   ]
  },
  {
   "cell_type": "code",
   "execution_count": 73,
   "id": "33cd2ab7",
   "metadata": {},
   "outputs": [
    {
     "data": {
      "text/plain": [
       "['Asad', 'Aqsa', 'Danish', 'Fahad', 'Kiran']"
      ]
     },
     "execution_count": 73,
     "metadata": {},
     "output_type": "execute_result"
    }
   ],
   "source": [
    "students"
   ]
  },
  {
   "cell_type": "code",
   "execution_count": 84,
   "id": "3cf1958a",
   "metadata": {},
   "outputs": [],
   "source": [
    "def build_profile(first,last,**user_info):   # ** is a keyword argument this will make it dictionary instead of tuple\n",
    "    profile={}\n",
    "    profile[\"first_name\"]=first\n",
    "    profile[\"last_name\"]=last\n",
    "    for key,value in user_info.items():\n",
    "        profile[key]=value\n",
    "    return profile\n",
    "    #print(user_info)"
   ]
  },
  {
   "cell_type": "code",
   "execution_count": 85,
   "id": "f1e4d2cf",
   "metadata": {},
   "outputs": [],
   "source": [
    "user_profile=build_profile('albert','ainistine', location='princeton',field='physics')"
   ]
  },
  {
   "cell_type": "raw",
   "id": "d5440eb4",
   "metadata": {},
   "source": [
    "user_profile"
   ]
  },
  {
   "cell_type": "code",
   "execution_count": 86,
   "id": "353988bd",
   "metadata": {},
   "outputs": [
    {
     "data": {
      "text/plain": [
       "{'first_name': 'albert',\n",
       " 'last_name': 'ainistine',\n",
       " 'location': 'princeton',\n",
       " 'field': 'physics'}"
      ]
     },
     "execution_count": 86,
     "metadata": {},
     "output_type": "execute_result"
    }
   ],
   "source": [
    "user_profile"
   ]
  },
  {
   "cell_type": "code",
   "execution_count": 109,
   "id": "ef6365e9",
   "metadata": {},
   "outputs": [],
   "source": [
    "def make_album(artist_name, album_title,num_of_track=0):\n",
    "\n",
    "    album={}\n",
    "    album[artist_name]=artist_name\n",
    "    album[album_title]=album_title\n",
    "    if num_of_track:\n",
    "        album[num_of_track]=num_of_track\n",
    "       \n",
    "    return album\n",
    "    "
   ]
  },
  {
   "cell_type": "code",
   "execution_count": 110,
   "id": "aba2e0d3",
   "metadata": {},
   "outputs": [],
   "source": [
    "singer=['Atif Aslam', 'Rahat Fateh Ali Khan', 'Umair Jaswal']\n",
    "production_album=['Sonic', 'Super Sonic'] # , 'Mega Super']\n",
    "#Track=[1,12,5]\n",
    "            "
   ]
  },
  {
   "cell_type": "code",
   "execution_count": 111,
   "id": "736e5990",
   "metadata": {},
   "outputs": [
    {
     "ename": "TypeError",
     "evalue": "unhashable type: 'list'",
     "output_type": "error",
     "traceback": [
      "\u001b[1;31m---------------------------------------------------------------------------\u001b[0m",
      "\u001b[1;31mTypeError\u001b[0m                                 Traceback (most recent call last)",
      "Input \u001b[1;32mIn [111]\u001b[0m, in \u001b[0;36m<cell line: 1>\u001b[1;34m()\u001b[0m\n\u001b[1;32m----> 1\u001b[0m \u001b[43mmake_album\u001b[49m\u001b[43m(\u001b[49m\u001b[43msinger\u001b[49m\u001b[43m,\u001b[49m\u001b[43m \u001b[49m\u001b[43mproduction_album\u001b[49m\u001b[43m \u001b[49m\u001b[43m)\u001b[49m\n\u001b[0;32m      2\u001b[0m album\n",
      "Input \u001b[1;32mIn [109]\u001b[0m, in \u001b[0;36mmake_album\u001b[1;34m(artist_name, album_title, num_of_track)\u001b[0m\n\u001b[0;32m      1\u001b[0m \u001b[38;5;28;01mdef\u001b[39;00m \u001b[38;5;21mmake_album\u001b[39m(artist_name, album_title,num_of_track\u001b[38;5;241m=\u001b[39m\u001b[38;5;241m0\u001b[39m):\n\u001b[0;32m      3\u001b[0m     album\u001b[38;5;241m=\u001b[39m{}\n\u001b[1;32m----> 4\u001b[0m     album[artist_name]\u001b[38;5;241m=\u001b[39martist_name\n\u001b[0;32m      5\u001b[0m     album[album_title]\u001b[38;5;241m=\u001b[39malbum_title\n\u001b[0;32m      6\u001b[0m     \u001b[38;5;28;01mif\u001b[39;00m num_of_track:\n",
      "\u001b[1;31mTypeError\u001b[0m: unhashable type: 'list'"
     ]
    }
   ],
   "source": [
    "make_album(singer, production_album )\n",
    "album"
   ]
  },
  {
   "cell_type": "markdown",
   "id": "5c7e00b9",
   "metadata": {},
   "source": [
    "# Modules"
   ]
  },
  {
   "cell_type": "code",
   "execution_count": 118,
   "id": "79c76bd7",
   "metadata": {},
   "outputs": [],
   "source": [
    "import math"
   ]
  },
  {
   "cell_type": "code",
   "execution_count": 121,
   "id": "4f444de4",
   "metadata": {},
   "outputs": [],
   "source": [
    "import string"
   ]
  },
  {
   "cell_type": "code",
   "execution_count": 122,
   "id": "bc4e199d",
   "metadata": {},
   "outputs": [
    {
     "data": {
      "text/plain": [
       "'!\"#$%&\\'()*+,-./:;<=>?@[\\\\]^_`{|}~'"
      ]
     },
     "execution_count": 122,
     "metadata": {},
     "output_type": "execute_result"
    }
   ],
   "source": [
    "string.punctuation"
   ]
  },
  {
   "cell_type": "code",
   "execution_count": 140,
   "id": "1443c891",
   "metadata": {},
   "outputs": [],
   "source": [
    "import mymodule"
   ]
  },
  {
   "cell_type": "code",
   "execution_count": 143,
   "id": "4cd30300",
   "metadata": {},
   "outputs": [
    {
     "data": {
      "text/plain": [
       "{'first_name': 'zeeshan', 'last_name': 'haider', 'university': 'paiaic'}"
      ]
     },
     "execution_count": 143,
     "metadata": {},
     "output_type": "execute_result"
    }
   ],
   "source": [
    "mymodule.build_profile('zeeshan','haider',university= 'paiaic')"
   ]
  },
  {
   "cell_type": "code",
   "execution_count": 147,
   "id": "ba4d496f",
   "metadata": {},
   "outputs": [],
   "source": [
    "from mymodule import build_profile"
   ]
  },
  {
   "cell_type": "code",
   "execution_count": 148,
   "id": "53d0e045",
   "metadata": {},
   "outputs": [
    {
     "data": {
      "text/plain": [
       "{'first_name': 'zeeshan', 'last_name': 'haider'}"
      ]
     },
     "execution_count": 148,
     "metadata": {},
     "output_type": "execute_result"
    }
   ],
   "source": [
    "build_profile('zeeshan','haider')"
   ]
  },
  {
   "cell_type": "code",
   "execution_count": null,
   "id": "5d445ba7",
   "metadata": {},
   "outputs": [],
   "source": []
  }
 ],
 "metadata": {
  "kernelspec": {
   "display_name": "Python 3 (ipykernel)",
   "language": "python",
   "name": "python3"
  },
  "language_info": {
   "codemirror_mode": {
    "name": "ipython",
    "version": 3
   },
   "file_extension": ".py",
   "mimetype": "text/x-python",
   "name": "python",
   "nbconvert_exporter": "python",
   "pygments_lexer": "ipython3",
   "version": "3.9.12"
  }
 },
 "nbformat": 4,
 "nbformat_minor": 5
}
