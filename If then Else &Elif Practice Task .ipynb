{
 "cells": [
  {
   "cell_type": "raw",
   "metadata": {},
   "source": [
    "1) A company decided to give bonus of 5% to employee if his/her year of service is more than 5 years.\n",
    "Ask user for their salary and year of service and print the net bonus amount."
   ]
  },
  {
   "cell_type": "code",
   "execution_count": 2,
   "metadata": {},
   "outputs": [
    {
     "name": "stdout",
     "output_type": "stream",
     "text": [
      "Enter your Salary: 50000\n",
      "Enter your Year of Service: 8\n",
      "Your Bonus amount is: 2500.0\n"
     ]
    }
   ],
   "source": [
    "emp_sal=int(input('Enter your Salary: '))\n",
    "emp_year_of_service=int(input('Enter your Year of Service: '))\n",
    "bonus_percent=0.05\n",
    "if emp_year_of_service > 5:\n",
    "    bonus_amount=emp_sal*bonus_percent\n",
    "    print(f\"Your Bonus amount is: {bonus_amount}\")\n",
    "else:\n",
    "    print('You are not eligible for bonus')\n",
    "    "
   ]
  },
  {
   "cell_type": "markdown",
   "metadata": {},
   "source": [
    "\n",
    "2) Write a program to check whether a person is eligible for voting or not. (accept age from user)"
   ]
  },
  {
   "cell_type": "code",
   "execution_count": 7,
   "metadata": {},
   "outputs": [
    {
     "name": "stdout",
     "output_type": "stream",
     "text": [
      "Enter age: 18\n",
      "You are eligible for Voting\n"
     ]
    }
   ],
   "source": [
    "age=int(input('Enter age: '))\n",
    "if age >=18:\n",
    "        print('You are eligible for Voting')\n",
    "else:\n",
    "        print('You are not eligible for Voting')"
   ]
  },
  {
   "cell_type": "markdown",
   "metadata": {},
   "source": [
    "\n",
    "3) Write a program to check whether a number entered by user is even or odd."
   ]
  },
  {
   "cell_type": "code",
   "execution_count": 5,
   "metadata": {},
   "outputs": [
    {
     "name": "stdout",
     "output_type": "stream",
     "text": [
      "Enter a number: 60\n",
      "60 is even number.\n"
     ]
    }
   ],
   "source": [
    "number=int(input('Enter a number: '))\n",
    "if (number%2)==0:\n",
    "    print(f\"{number} is even number.\")\n",
    "else:\n",
    "    print(\"This is odd number.\" )"
   ]
  },
  {
   "cell_type": "markdown",
   "metadata": {},
   "source": [
    "4) Write a program to check whether a number is divisible by 7 or not.\n",
    "Show Answer"
   ]
  },
  {
   "cell_type": "code",
   "execution_count": 14,
   "metadata": {},
   "outputs": [
    {
     "name": "stdout",
     "output_type": "stream",
     "text": [
      "Enter a number: 49\n",
      "This 49 number is divisible by 7.\n"
     ]
    }
   ],
   "source": [
    "number=int(input('Enter a number: '))\n",
    "if (number%7)==0:\n",
    "    print(\"This {} number is divisible by 7.\".format(number))\n",
    "else:\n",
    "    print(\"This {} number is not divisible by 7.\".format(number))"
   ]
  },
  {
   "cell_type": "raw",
   "metadata": {},
   "source": [
    "5) Write a program to display \n",
    "\"Hello\" if a number entered by user is a multiple of five , otherwise print \"Bye\"."
   ]
  },
  {
   "cell_type": "code",
   "execution_count": 8,
   "metadata": {},
   "outputs": [
    {
     "name": "stdout",
     "output_type": "stream",
     "text": [
      "Enter a number: 50\n",
      "Hello\n"
     ]
    }
   ],
   "source": [
    "number=int(input('Enter a number: '))\n",
    "if (number%5)==0:\n",
    "    print(\"Hello\")\n",
    "else:\n",
    "    print(\"Bye\")"
   ]
  },
  {
   "cell_type": "raw",
   "metadata": {},
   "source": [
    "6) Write a program to calculate the electricity bill (accept number of unit from user) according to the following criteria :\n",
    "     Unit                                                     Price  \n",
    "uptp 100 units                                             no charge\n",
    "Next 200 units                                              Rs 5 per unit\n",
    "After 200 units                                             Rs 10 per unit\n",
    "(For example if input unit is 350 than total bill amount is Rs.3500\n",
    "(For example if input unit is 97 than total bill amount is Rs.0\n",
    "(For example if input unit is 150 than total bill amount is Rs.750"
   ]
  },
  {
   "cell_type": "code",
   "execution_count": 1,
   "metadata": {},
   "outputs": [
    {
     "name": "stdout",
     "output_type": "stream",
     "text": [
      "Enter Unit Consumed: 650\n",
      "Your electricity bill is:  5000\n"
     ]
    }
   ],
   "source": [
    "slab_1=0\n",
    "slab_2=5\n",
    "slab_3=10\n",
    "\n",
    "unit=int(input('Enter Unit Consumed: '))\n",
    "if unit <=100:\n",
    "    elec_bill=unit*slab_1\n",
    "elif unit > 100 and unit <=200:\n",
    "    elec_bill=(100 * slab_1) + (unit - 100 ) * slab_2\n",
    "elif unit >200:\n",
    "    elec_bill=(100 * slab_1) + (100 * slab_2) + (unit - 200) * slab_3\n",
    "print('Your electricity bill is: ', elec_bill)"
   ]
  },
  {
   "cell_type": "code",
   "execution_count": null,
   "metadata": {},
   "outputs": [],
   "source": []
  },
  {
   "cell_type": "raw",
   "metadata": {},
   "source": [
    "7) Write a program to display the last digit of a number.\n"
   ]
  },
  {
   "cell_type": "code",
   "execution_count": 4,
   "metadata": {},
   "outputs": [
    {
     "name": "stdout",
     "output_type": "stream",
     "text": [
      "Enter any number45801\n",
      "1\n"
     ]
    }
   ],
   "source": [
    "#Type your code here\n",
    "number=int(input(\"Enter any number\"))\n",
    "print(f\"{number%10}\")"
   ]
  },
  {
   "cell_type": "raw",
   "metadata": {},
   "source": [
    "\n",
    "Q8. Write a program to check whether the last digit of a number( entered by user ) is \n",
    "divisible by 3 or not."
   ]
  },
  {
   "cell_type": "code",
   "execution_count": 1,
   "metadata": {},
   "outputs": [
    {
     "name": "stdout",
     "output_type": "stream",
     "text": [
      "Enter any number125789\n",
      "The number is divisible by 3\n"
     ]
    }
   ],
   "source": [
    "#Type your code here\n",
    "\n",
    "number=int(input(\"Enter any number\"))\n",
    "last_digit=number%10\n",
    "if last_digit%3==0:\n",
    "    print(\"The number is divisible by 3\")\n",
    "else:\n",
    "    print(\"The number is not divisible by 3\")\n"
   ]
  },
  {
   "cell_type": "raw",
   "metadata": {},
   "source": [
    "9) Take values of length and breadth of a rectangle from user and check if it is square or not."
   ]
  },
  {
   "cell_type": "code",
   "execution_count": 4,
   "metadata": {},
   "outputs": [
    {
     "name": "stdout",
     "output_type": "stream",
     "text": [
      "Enter lenght: 5\n",
      "Enter Breadth: 5\n",
      "This is a square 25\n"
     ]
    }
   ],
   "source": [
    "#Type your code here \n",
    "l=int(input(\"Enter lenght: \"))\n",
    "b=int(input(\"Enter Breadth: \"))\n",
    "c=l*b\n",
    "if l==b:\n",
    "    print(\"This is a square\", c)\n",
    "else:\n",
    "    print(\"This is not a square\", c)\n"
   ]
  },
  {
   "cell_type": "raw",
   "metadata": {},
   "source": [
    "10) Take two int values from user and print greatest among them."
   ]
  },
  {
   "cell_type": "code",
   "execution_count": 5,
   "metadata": {},
   "outputs": [
    {
     "name": "stdout",
     "output_type": "stream",
     "text": [
      "Enter 1st number: 5\n",
      "Enter 2nd number: 10\n",
      "The Greatest number is:  10\n"
     ]
    }
   ],
   "source": [
    "# Type your code here\n",
    "a=int(input(\"Enter 1st number: \"))\n",
    "b=int(input(\"Enter 2nd number: \"))\n",
    "if a > b:\n",
    "    print(\"Greater number is: \", a)\n",
    "elif b>a:\n",
    "    print(\"The Greatest number is: \", b)\n"
   ]
  },
  {
   "cell_type": "raw",
   "metadata": {},
   "source": [
    "11) A shop will give discount of 10% if the cost of purchased quantity is more than 1000.\n",
    "Ask user for quantity\n",
    "Suppose, one unit will cost 100.\n",
    "Judge and print total cost for user."
   ]
  },
  {
   "cell_type": "code",
   "execution_count": 10,
   "metadata": {},
   "outputs": [
    {
     "name": "stdout",
     "output_type": "stream",
     "text": [
      "Enter price per unit: 10\n",
      "Enter purchase quantity: 110\n",
      "Your purchase amount is:  990.0\n"
     ]
    }
   ],
   "source": [
    "#Type your code here\n",
    "disc_perc=0.10\n",
    "price=int(input(\"Enter price per unit: \"))\n",
    "qty= int(input(\"Enter purchase quantity: \"))\n",
    "pur_amt=price*qty\n",
    "if pur_amt > 1000:\n",
    "    dis_amt=pur_amt*disc_perc\n",
    "    net_pur_amt=pur_amt-dis_amt\n",
    "    print(\"Your purchase amount is: \", net_pur_amt)\n",
    "else:\n",
    "    print(\"Discount not allowed on purchase amount\", pur_amt)\n",
    "    \n",
    "\n",
    "\n"
   ]
  },
  {
   "cell_type": "raw",
   "metadata": {},
   "source": [
    "12) A school has following rules for grading system:\n",
    "\n",
    "a. Below 25 - F\n",
    "\n",
    "b. 25 to 45 - E\n",
    "\n",
    "c. 45 to 50 - D\n",
    "\n",
    "d. 50 to 60 - C\n",
    "\n",
    "e. 60 to 80 - B\n",
    "\n",
    "f. Above 80 - A\n",
    "\n",
    "Ask user to enter marks and print the corresponding grade."
   ]
  },
  {
   "cell_type": "code",
   "execution_count": 10,
   "metadata": {},
   "outputs": [
    {
     "name": "stdout",
     "output_type": "stream",
     "text": [
      "Enter Marks: 65\n",
      " Your Grade is B\n"
     ]
    }
   ],
   "source": [
    "#Type your code here\n",
    "grade=None\n",
    "marks=int(input(\"Enter Marks: \"))\n",
    "if marks <25:\n",
    "    grade='F'\n",
    "    #print(\"Your Grade is F\")\n",
    "elif marks >=25 and marks <=45:\n",
    "    grade='E'\n",
    "    #print(\"Your Grade is E\")\n",
    "elif marks >45 and marks<=50:\n",
    "    grade='D'\n",
    "    #print(\"Your Grade is D\")\n",
    "elif marks >50 and marks<=60:\n",
    "    grade='C'\n",
    "    #print(\"Your Grade is C\")\n",
    "elif marks >=60 and marks<=80:\n",
    "    grade='B'\n",
    "    #print(\"Your Grade is B\")\n",
    "elif marks >80:\n",
    "    grade='A'\n",
    "    #print(\"Your Grade is A\")\n",
    "print(f\" Your Grade is {grade}\")"
   ]
  },
  {
   "cell_type": "raw",
   "metadata": {},
   "source": [
    "13) Take input of age of 3 people by user and determine oldest and youngest among them."
   ]
  },
  {
   "cell_type": "code",
   "execution_count": 6,
   "metadata": {},
   "outputs": [
    {
     "name": "stdout",
     "output_type": "stream",
     "text": [
      "Enter your age: 5\n"
     ]
    },
    {
     "ename": "AttributeError",
     "evalue": "'list' object has no attribute 'max'",
     "output_type": "error",
     "traceback": [
      "\u001b[1;31m---------------------------------------------------------------------------\u001b[0m",
      "\u001b[1;31mAttributeError\u001b[0m                            Traceback (most recent call last)",
      "Input \u001b[1;32mIn [6]\u001b[0m, in \u001b[0;36m<cell line: 4>\u001b[1;34m()\u001b[0m\n\u001b[0;32m      5\u001b[0m age_of_ppl\u001b[38;5;241m=\u001b[39m\u001b[38;5;28minput\u001b[39m(\u001b[38;5;124m\"\u001b[39m\u001b[38;5;124mEnter your age: \u001b[39m\u001b[38;5;124m\"\u001b[39m)\n\u001b[0;32m      6\u001b[0m l\u001b[38;5;241m.\u001b[39mappend(age_of_ppl)\n\u001b[1;32m----> 7\u001b[0m \u001b[38;5;28mprint\u001b[39m(\u001b[38;5;124mf\u001b[39m\u001b[38;5;124m\"\u001b[39m\u001b[38;5;124mOlderst age is \u001b[39m\u001b[38;5;132;01m{\u001b[39;00ml\u001b[38;5;241m.\u001b[39mmax(age)\u001b[38;5;132;01m}\u001b[39;00m\u001b[38;5;124m and yougest age is \u001b[39m\u001b[38;5;132;01m{\u001b[39;00ml\u001b[38;5;241m.\u001b[39mmin(age)\u001b[38;5;132;01m}\u001b[39;00m\u001b[38;5;124m\"\u001b[39m)\n",
      "\u001b[1;31mAttributeError\u001b[0m: 'list' object has no attribute 'max'"
     ]
    }
   ],
   "source": [
    "#Type your code here\n",
    "l=[]\n",
    "\n",
    "for age in range (3): \n",
    "    age_of_ppl=input(\"Enter your age: \")\n",
    "    l.append(age_of_ppl)\n",
    "    print(f\"Olderst age is {l.max(age)} and yougest age is {l.min(age)}\")"
   ]
  },
  {
   "cell_type": "raw",
   "metadata": {},
   "source": [
    "14)A student will not be allowed to sit in exam if his/her attendence is less than 75%.\n",
    "\n",
    "Take following input from user\n",
    "\n",
    "Number of classes held\n",
    "\n",
    "Number of classes attended.\n",
    "\n",
    "And print\n",
    "\n",
    "percentage of class attended\n",
    "\n",
    "Is student is allowed to sit in exam or not.\n"
   ]
  },
  {
   "cell_type": "code",
   "execution_count": 19,
   "metadata": {},
   "outputs": [],
   "source": [
    "#Type your code here"
   ]
  },
  {
   "cell_type": "raw",
   "metadata": {},
   "source": [
    "15) Modify the above question to allow student to sit if he/she has medical cause. Ask user if he/she has medical cause or not ( 'Y' or 'N' ) and print accordingly."
   ]
  },
  {
   "cell_type": "code",
   "execution_count": 20,
   "metadata": {},
   "outputs": [],
   "source": [
    "#Type your code here"
   ]
  },
  {
   "cell_type": "raw",
   "metadata": {},
   "source": [
    "16) Write a program to check if a year is leap year or not.\n",
    "\n",
    "If a year is divisible by 4 then it is leap year but if the year is century year like 2000, 1900, 2100 then it must be divisible by 400."
   ]
  },
  {
   "cell_type": "code",
   "execution_count": 21,
   "metadata": {},
   "outputs": [],
   "source": [
    "#Type your code here"
   ]
  },
  {
   "cell_type": "raw",
   "metadata": {},
   "source": [
    "17) Ask user to enter age, gender ( M or F ), marital status ( Y or N ) and then using following rules print their place of service.\n",
    "\n",
    "if employee is female, then she will work only in urban areas.\n",
    "\n",
    "if employee is a male and age is in between 20 to 40 then he may work in anywhere\n",
    "\n",
    "if employee is male and age is in between 40 t0 60 then he will work in urban areas only.\n",
    "\n",
    "And any other input of age should print \"ERROR\""
   ]
  },
  {
   "cell_type": "code",
   "execution_count": 22,
   "metadata": {},
   "outputs": [],
   "source": [
    "#Type your code here"
   ]
  },
  {
   "cell_type": "code",
   "execution_count": null,
   "metadata": {},
   "outputs": [],
   "source": []
  }
 ],
 "metadata": {
  "kernelspec": {
   "display_name": "Python 3 (ipykernel)",
   "language": "python",
   "name": "python3"
  },
  "language_info": {
   "codemirror_mode": {
    "name": "ipython",
    "version": 3
   },
   "file_extension": ".py",
   "mimetype": "text/x-python",
   "name": "python",
   "nbconvert_exporter": "python",
   "pygments_lexer": "ipython3",
   "version": "3.9.12"
  }
 },
 "nbformat": 4,
 "nbformat_minor": 2
}
